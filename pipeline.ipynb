{
    "cells": [
        {
            "cell_type": "code",
            "execution_count": null,
            "metadata": {},
            "outputs": [],
            "source": [
                "import databento as db\n",
                "import pandas as pd\n",
                "import seaborn as sns\n",
                "import matplotlib.pyplot as plt\n",
                "import numpy as np\n",
                "import plotly.graph_objects as go\n",
                "import os\n",
                "from pathlib import Path\n",
                "\n",
                "\n",
                "from src.model.model import BasicXGBOOST1\n",
                "from dataset.dataset import Dataset1\n"
            ]
        },
        {
            "cell_type": "code",
            "execution_count": null,
            "metadata": {},
            "outputs": [],
            "source": [
                "API_KEY = os.environ['DATABENTO_KEY']\n",
                "DATASET = 'XNAS.ITCH'  # NASDAQ ITCH data or other supported dataset\n",
                "SYMBOL = 'AAPL'  # Change this to your desired stock symbol\n",
                "START_DATE = '2018-05-01'  # Change to the earliest date allowed by your subscription\n",
                "END_DATE = '2025-02-28'  # Or the most recent date\n"
            ]
        },
        {
            "cell_type": "code",
            "execution_count": null,
            "metadata": {},
            "outputs": [],
            "source": [
                "client = db.Historical(API_KEY)"
            ]
        },
        {
            "cell_type": "code",
            "execution_count": null,
            "metadata": {},
            "outputs": [],
            "source": [
                "print(client.metadata.list_datasets())"
            ]
        },
        {
            "cell_type": "code",
            "execution_count": null,
            "metadata": {},
            "outputs": [],
            "source": [
                "\n",
                "# Jupyter notebook runs in the current working directory\n",
                "current_folder = Path.cwd()\n",
                "print(current_folder)\n",
                "subfolder = current_folder / \"data\"\n",
                "print(subfolder)\n",
                "history_file = subfolder / \"AAPL_minute_data.csv\"\n",
                "got_ticker = False\n",
                "\n",
                "if history_file.exists():\n",
                "    print(\"File exists!\")\n",
                "    got_ticker = True\n",
                "else:\n",
                "    print(\"File does not exist.\")\n"
            ]
        },
        {
            "cell_type": "code",
            "execution_count": null,
            "metadata": {},
            "outputs": [],
            "source": [
                "if got_ticker:\n",
                "    print(\"Reading file...\")\n",
                "    df = pd.read_csv(history_file)\n",
                "else:\n",
                "    print(\"Fetching data...\")\n",
                "    # Fetch minute-bar data\n",
                "    df = client.timeseries.get_range(\n",
                "        dataset=DATASET,\n",
                "        symbols=SYMBOL,\n",
                "        schema='ohlcv-1m',\n",
                "        start=START_DATE,\n",
                "        end=END_DATE,\n",
                "    ).to_df()\n",
                "\n",
                "    # Display the dat\n",
                "    # Optionally, save data to a CSV file\n",
                "    df.to_csv(f'data/{SYMBOL}_minute_data.csv')\n",
                "\n",
                "print('Columns:',df.columns)\n",
                "print('Length:',len(df))"
            ]
        },
        {
            "cell_type": "code",
            "execution_count": null,
            "metadata": {},
            "outputs": [],
            "source": [
                "df_test = df.copy()\n",
                "df_test = df_test.drop(['rtype', 'publisher_id', 'instrument_id', 'symbol' ], axis=1)\n"
            ]
        },
        {
            "cell_type": "code",
            "execution_count": null,
            "metadata": {},
            "outputs": [],
            "source": [
                "from src.features.featurizer import Featurizer1\n",
                "\n",
                "featurizer = Featurizer1()\n",
                "df_test = featurizer.featurize(df_test)\n"
            ]
        },
        {
            "cell_type": "code",
            "execution_count": null,
            "metadata": {},
            "outputs": [],
            "source": [
                "df_test = df_test.drop(['ts_event'], axis=1)\n",
                "len_sequence = 100\n",
                "predict_horizon = 10\n",
                "n_samples = 80000\n",
                "n_features = df_test.shape[1]\n",
                "\n",
                "\n",
                "model = BasicXGBOOST1()\n",
                "dataset = Dataset1( df_test, \n",
                "                    n_samples=n_samples,\n",
                "                    len_sequence=len_sequence,\n",
                "                    predict_horizon=10,\n",
                "                    )\n",
                "dataset.process()\n",
                "X_train, X_test, y_train, y_test = dataset.get_data()"
            ]
        },
        {
            "cell_type": "code",
            "execution_count": null,
            "metadata": {},
            "outputs": [],
            "source": [
                "model.fit(X_train, y_train)\n",
                "y_pred = model.predict(X_test)\n",
                "acc = model.evaluate(X_test, y_test)\n",
                "print(f\"Test Accuracy: {acc:.4f}\")"
            ]
        },
        {
            "cell_type": "code",
            "execution_count": null,
            "metadata": {},
            "outputs": [],
            "source": [
                "from src.model.utils import visualize_performance\n",
                "\n",
                "aux_train, aux_test, complete_sequence_train, complete_sequence_test = dataset.get_aux_data()\n",
                "\n",
                "index = 2\n",
                "\n",
                "print('True', y_test[index], 'Predicted', y_pred[index])\n",
                "visualize_performance(X_test, y_test, y_pred, index, aux_test, complete_sequence_test)\n",
                "\n"
            ]
        },
        {
            "cell_type": "code",
            "execution_count": null,
            "metadata": {},
            "outputs": [],
            "source": [
                "# from src.model.live_test import LiveStreamPredictor\n",
                "\n",
                "# pretrained_model = model  # Replace with your pre-trained model instance\n",
                "\n",
                "# predictor = LiveStreamPredictor(\n",
                "\n",
                "\n",
                "\n",
                "#     model=pretrained_model,\n",
                "#     symbol=\"AAPL\",\n",
                "#     seq_length=10,\n",
                "#   t_key empty if not required\n",
                "# )\n",
                "\n",
                "# predictor.run()"
            ]
        },
        {
            "cell_type": "code",
            "execution_count": null,
            "metadata": {},
            "outputs": [],
            "source": []
        }
    ],
    "metadata": {
        "kernelspec": {
            "display_name": ".venv",
            "language": "python",
            "name": "python3"
        },
        "language_info": {
            "codemirror_mode": {
                "name": "ipython",
                "version": 3
            },
            "file_extension": ".py",
            "mimetype": "text/x-python",
            "name": "python",
            "nbconvert_exporter": "python",
            "pygments_lexer": "ipython3",
            "version": "3.11.8"
        }
    },
    "nbformat": 4,
    "nbformat_minor": 2
}
