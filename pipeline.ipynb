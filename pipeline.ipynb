{
    "cells": [
        {
            "cell_type": "code",
            "execution_count": 12,
            "metadata": {},
            "outputs": [],
            "source": [
                "import databento as db\n",
                "import pandas as pd\n",
                "import seaborn as sns\n",
                "import matplotlib.pyplot as plt\n",
                "import numpy as np\n",
                "import plotly.graph_objects as go\n",
                "import os\n"
            ]
        },
        {
            "cell_type": "code",
            "execution_count": 13,
            "metadata": {},
            "outputs": [],
            "source": [
                "API_KEY = os.environ['DATABENTO_KEY']\n",
                "DATASET = 'XNAS.ITCH'  # NASDAQ ITCH data or other supported dataset\n",
                "SYMBOL = 'AAPL'  # Change this to your desired stock symbol\n",
                "START_DATE = '2018-05-01'  # Change to the earliest date allowed by your subscription\n",
                "END_DATE = '2025-02-28'  # Or the most recent date\n"
            ]
        },
        {
            "cell_type": "code",
            "execution_count": 14,
            "metadata": {},
            "outputs": [],
            "source": [
                "client = db.Historical(API_KEY)"
            ]
        },
        {
            "cell_type": "code",
            "execution_count": 15,
            "metadata": {},
            "outputs": [
                {
                    "name": "stdout",
                    "output_type": "stream",
                    "text": [
                        "['ARCX.PILLAR', 'DBEQ.BASIC', 'EPRL.DOM', 'EQUS.MINI', 'EQUS.SUMMARY', 'GLBX.MDP3', 'IEXG.TOPS', 'IFEU.IMPACT', 'MEMX.MEMOIR', 'NDEX.IMPACT', 'OPRA.PILLAR', 'XASE.PILLAR', 'XBOS.ITCH', 'XCHI.PILLAR', 'XCIS.TRADESBBO', 'XNAS.BASIC', 'XNAS.ITCH', 'XNYS.PILLAR', 'XPSX.ITCH']\n"
                    ]
                }
            ],
            "source": [
                "print(client.metadata.list_datasets())"
            ]
        },
        {
            "cell_type": "code",
            "execution_count": 16,
            "metadata": {},
            "outputs": [
                {
                    "name": "stdout",
                    "output_type": "stream",
                    "text": [
                        "/Users/carloteufel/Documents/Projects/FeatureEngineering\n",
                        "/Users/carloteufel/Documents/Projects/FeatureEngineering/data\n",
                        "File exists!\n"
                    ]
                }
            ],
            "source": [
                "from pathlib import Path\n",
                "\n",
                "# Jupyter notebook runs in the current working directory\n",
                "current_folder = Path.cwd()\n",
                "print(current_folder)\n",
                "subfolder = current_folder / \"data\"\n",
                "print(subfolder)\n",
                "history_file = subfolder / \"AAPL_minute_data.csv\"\n",
                "got_ticker = False\n",
                "\n",
                "if history_file.exists():\n",
                "    print(\"File exists!\")\n",
                "    got_ticker = True\n",
                "else:\n",
                "    print(\"File does not exist.\")\n"
            ]
        },
        {
            "cell_type": "code",
            "execution_count": 17,
            "metadata": {},
            "outputs": [
                {
                    "name": "stdout",
                    "output_type": "stream",
                    "text": [
                        "Reading file...\n",
                        "                    ts_event  rtype  publisher_id  instrument_id    open  \\\n",
                        "0  2018-05-01 08:27:00+00:00     33             2             13  166.40   \n",
                        "1  2018-05-01 08:35:00+00:00     33             2             13  166.39   \n",
                        "2  2018-05-01 08:38:00+00:00     33             2             13  166.10   \n",
                        "3  2018-05-01 08:39:00+00:00     33             2             13  166.20   \n",
                        "4  2018-05-01 08:45:00+00:00     33             2             13  166.00   \n",
                        "\n",
                        "     high     low   close  volume symbol  \n",
                        "0  166.40  166.40  166.40       3   AAPL  \n",
                        "1  166.39  166.39  166.39       2   AAPL  \n",
                        "2  166.10  166.05  166.05    1400   AAPL  \n",
                        "3  166.20  166.20  166.20      23   AAPL  \n",
                        "4  166.00  166.00  166.00     100   AAPL  \n"
                    ]
                }
            ],
            "source": [
                "if got_ticker:\n",
                "    print(\"Reading file...\")\n",
                "    df = pd.read_csv(history_file)\n",
                "    print(df.head())\n",
                "else:\n",
                "    print(\"Fetching data...\")\n",
                "    # Fetch minute-bar data\n",
                "    df = client.timeseries.get_range(\n",
                "        dataset=DATASET,\n",
                "        symbols=SYMBOL,\n",
                "        schema='ohlcv-1m',\n",
                "        start=START_DATE,\n",
                "        end=END_DATE,\n",
                "    ).to_df()\n",
                "\n",
                "    # Display the dat\n",
                "    # Optionally, save data to a CSV file\n",
                "    df.to_csv(f'data/{SYMBOL}_minute_data.csv')\n"
            ]
        },
        {
            "cell_type": "code",
            "execution_count": 18,
            "metadata": {},
            "outputs": [
                {
                    "data": {
                        "text/plain": [
                            "Index(['ts_event', 'rtype', 'publisher_id', 'instrument_id', 'open', 'high',\n",
                            "       'low', 'close', 'volume', 'symbol'],\n",
                            "      dtype='object')"
                        ]
                    },
                    "execution_count": 18,
                    "metadata": {},
                    "output_type": "execute_result"
                }
            ],
            "source": [
                "df.columns"
            ]
        },
        {
            "cell_type": "code",
            "execution_count": 19,
            "metadata": {},
            "outputs": [
                {
                    "ename": "AttributeError",
                    "evalue": "'RangeIndex' object has no attribute 'time'",
                    "output_type": "error",
                    "traceback": [
                        "\u001b[0;31m---------------------------------------------------------------------------\u001b[0m",
                        "\u001b[0;31mAttributeError\u001b[0m                            Traceback (most recent call last)",
                        "Cell \u001b[0;32mIn[19], line 3\u001b[0m\n\u001b[1;32m      1\u001b[0m df2 \u001b[38;5;241m=\u001b[39m df\u001b[38;5;241m.\u001b[39mcopy()\n\u001b[0;32m----> 3\u001b[0m time_counts \u001b[38;5;241m=\u001b[39m df2\u001b[38;5;241m.\u001b[39mgroupby(\u001b[43mdf2\u001b[49m\u001b[38;5;241;43m.\u001b[39;49m\u001b[43mindex\u001b[49m\u001b[38;5;241;43m.\u001b[39;49m\u001b[43mtime\u001b[49m)[\u001b[38;5;124m'\u001b[39m\u001b[38;5;124mvolume\u001b[39m\u001b[38;5;124m'\u001b[39m]\u001b[38;5;241m.\u001b[39msum()\n\u001b[1;32m      5\u001b[0m time_counts\u001b[38;5;241m.\u001b[39mindex \u001b[38;5;241m=\u001b[39m time_counts\u001b[38;5;241m.\u001b[39mindex\u001b[38;5;241m.\u001b[39mastype(\u001b[38;5;28mstr\u001b[39m)\n\u001b[1;32m      8\u001b[0m fig \u001b[38;5;241m=\u001b[39m go\u001b[38;5;241m.\u001b[39mFigure()\n",
                        "\u001b[0;31mAttributeError\u001b[0m: 'RangeIndex' object has no attribute 'time'"
                    ]
                }
            ],
            "source": [
                "\n",
                "\n",
                "df2 = df.copy()\n",
                "\n",
                "time_counts = df2.groupby(df2.index.time)['volume'].sum()\n",
                "\n",
                "time_counts.index = time_counts.index.astype(str)\n",
                "\n",
                "\n",
                "fig = go.Figure()\n",
                "\n",
                "# Add the main line trace\n",
                "fig.add_trace(go.Line(x=time_counts.index, y=time_counts.values, mode='lines', name='Sum of Values'))\n",
                "\n",
                "# Add markers at the detected peaks\n"
            ]
        },
        {
            "cell_type": "code",
            "execution_count": null,
            "metadata": {},
            "outputs": [],
            "source": []
        }
    ],
    "metadata": {
        "kernelspec": {
            "display_name": ".venv",
            "language": "python",
            "name": "python3"
        },
        "language_info": {
            "codemirror_mode": {
                "name": "ipython",
                "version": 3
            },
            "file_extension": ".py",
            "mimetype": "text/x-python",
            "name": "python",
            "nbconvert_exporter": "python",
            "pygments_lexer": "ipython3",
            "version": "3.11.8"
        }
    },
    "nbformat": 4,
    "nbformat_minor": 2
}