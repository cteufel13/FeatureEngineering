{
 "cells": [
  {
   "cell_type": "markdown",
   "metadata": {},
   "source": [
    "# Feature Engineering of Microstructure Data\n",
    "\n",
    "## Goals:\n",
    "- Understand the importance of feature engineering in analyzing microstructure data.\n",
    "- Explore techniques to extract meaningful features from raw microstructure datasets.\n",
    "- Demonstrate how these features can improve the performance of machine learning models."
   ]
  },
  {
   "cell_type": "markdown",
   "metadata": {},
   "source": [
    "# 1. What is Market Microstructure? \n"
   ]
  },
  {
   "cell_type": "code",
   "execution_count": 1,
   "metadata": {},
   "outputs": [
    {
     "name": "stdout",
     "output_type": "stream",
     "text": [
      "Current Working Directory: /Users/carloteufel/Documents/Projects/FeatureEngineering\n"
     ]
    },
    {
     "name": "stderr",
     "output_type": "stream",
     "text": [
      "/Users/carloteufel/Documents/Projects/FeatureEngineering/.venv/lib/python3.11/site-packages/tqdm/auto.py:21: TqdmWarning: IProgress not found. Please update jupyter and ipywidgets. See https://ipywidgets.readthedocs.io/en/stable/user_install.html\n",
      "  from .autonotebook import tqdm as notebook_tqdm\n"
     ]
    }
   ],
   "source": [
    "#import statements\n",
    "import os\n",
    "from argparse import  Namespace\n",
    "os.chdir(os.path.abspath(\"..\"))\n",
    "\n",
    "from src.train import run_pipeline\n",
    "\n",
    "print(\"Current Working Directory:\", os.getcwd())"
   ]
  },
  {
   "cell_type": "markdown",
   "metadata": {},
   "source": [
    "### 1. Just OHLCV-Data"
   ]
  },
  {
   "cell_type": "code",
   "execution_count": 2,
   "metadata": {},
   "outputs": [
    {
     "name": "stdout",
     "output_type": "stream",
     "text": [
      "Dataset Columns: ['open', 'high', 'low', 'close', 'volume']\n",
      "Cross-validation scores: [0.4367928  0.43898284 0.43886118 0.46623677 0.4421868 ]\n",
      "Mean accuracy: 0.4446120777061281\n",
      "Evaluating model\n",
      "Accuracy: 0.46700734071460437\n",
      "Evaluating accuracy over time\n"
     ]
    },
    {
     "name": "stderr",
     "output_type": "stream",
     "text": [
      "100%|██████████| 5/5 [00:00<00:00,  6.79it/s]\n"
     ]
    },
    {
     "name": "stdout",
     "output_type": "stream",
     "text": [
      "Saving model\n",
      "Model saved to saved_models/BasicXGBOOST1_Dataset2_Featurizer2_2025-04-01_16:52:55\n"
     ]
    }
   ],
   "source": [
    "args = Namespace(\n",
    "    dataset_version=\"Dataset2\",\n",
    "    data_type = \"ohlcv_data\",\n",
    "    model=\"BasicXGBOOST1\",\n",
    "    featurizer=\"Featurizer2\",\n",
    "    seq_len=100,\n",
    "    predict_horizon=10,\n",
    "    make_new_features= False,\n",
    "    use_kfold=True, \n",
    "    use_ta = False\n",
    ")\n",
    "run_pipeline(args)"
   ]
  },
  {
   "cell_type": "markdown",
   "metadata": {},
   "source": [
    "### 2. OHLCV + Technical Indicators"
   ]
  },
  {
   "cell_type": "code",
   "execution_count": null,
   "metadata": {},
   "outputs": [],
   "source": [
    "args = Namespace(\n",
    "    dataset_version=\"Dataset2\",\n",
    "    data_type = \"ohlcv_data\",\n",
    "    model=\"BasicXGBOOST1\",\n",
    "    featurizer=\"Featurizer2\",\n",
    "    seq_len=100,\n",
    "    predict_horizon=10,\n",
    "    make_new_features= False,\n",
    "    use_kfold=True, \n",
    "    use_ta = False\n",
    ")\n",
    "run_pipeline(args)"
   ]
  }
 ],
 "metadata": {
  "kernelspec": {
   "display_name": ".venv",
   "language": "python",
   "name": "python3"
  },
  "language_info": {
   "codemirror_mode": {
    "name": "ipython",
    "version": 3
   },
   "file_extension": ".py",
   "mimetype": "text/x-python",
   "name": "python",
   "nbconvert_exporter": "python",
   "pygments_lexer": "ipython3",
   "version": "3.11.8"
  }
 },
 "nbformat": 4,
 "nbformat_minor": 2
}
