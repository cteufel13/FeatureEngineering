{
 "cells": [
  {
   "cell_type": "markdown",
   "metadata": {},
   "source": [
    "# Feature Engineering of Microstructure Data\n",
    "\n",
    "## Goals:\n",
    "- Understand the importance of feature engineering in analyzing microstructure data.\n",
    "- Explore techniques to extract meaningful features from raw microstructure datasets.\n",
    "- Demonstrate how these features can improve the performance of machine learning models."
   ]
  },
  {
   "cell_type": "markdown",
   "metadata": {},
   "source": [
    "# 1. What is Market Microstructure? \n"
   ]
  },
  {
   "cell_type": "code",
   "execution_count": 3,
   "metadata": {},
   "outputs": [
    {
     "name": "stdout",
     "output_type": "stream",
     "text": [
      "Current Working Directory: /Users/carloteufel/Documents/Projects/FeatureEngineering\n"
     ]
    },
    {
     "name": "stderr",
     "output_type": "stream",
     "text": [
      "/Users/carloteufel/Documents/Projects/FeatureEngineering/.venv/lib/python3.11/site-packages/tqdm/auto.py:21: TqdmWarning: IProgress not found. Please update jupyter and ipywidgets. See https://ipywidgets.readthedocs.io/en/stable/user_install.html\n",
      "  from .autonotebook import tqdm as notebook_tqdm\n"
     ]
    }
   ],
   "source": [
    "#import statements\n",
    "import os\n",
    "from argparse import  Namespace\n",
    "os.chdir(os.path.abspath(\"..\"))\n",
    "\n",
    "from src.train import run_pipeline\n",
    "\n",
    "print(\"Current Working Directory:\", os.getcwd())"
   ]
  },
  {
   "cell_type": "markdown",
   "metadata": {},
   "source": [
    "### 1. Just OHLCV-Data"
   ]
  },
  {
   "cell_type": "code",
   "execution_count": 2,
   "metadata": {},
   "outputs": [
    {
     "name": "stdout",
     "output_type": "stream",
     "text": [
      "Dataset Columns: ['open_ohlcv', 'high_ohlcv', 'low_ohlcv', 'close_ohlcv', 'volume_ohlcv']\n",
      "fitting Kfold\n",
      "Cross-validation scores: [0.4367928  0.43898284 0.43886118 0.46623677 0.4421868 ]\n",
      "Mean accuracy: 0.4446120777061281\n",
      "Training model\n",
      "Evaluating model\n",
      "Accuracy: 0.46700734071460437\n",
      "Evaluating accuracy over time\n"
     ]
    },
    {
     "name": "stderr",
     "output_type": "stream",
     "text": [
      "100%|██████████| 5/5 [00:00<00:00,  7.24it/s]\n"
     ]
    },
    {
     "name": "stdout",
     "output_type": "stream",
     "text": [
      "Saving model\n",
      "Model saved to saved_models/BasicXGBOOST1_Dataset2_Featurizer2_2025-04-02_17:12:15\n"
     ]
    }
   ],
   "source": [
    "args = Namespace(\n",
    "    dataset_version=\"Dataset2\",\n",
    "    data_type = \"ohlcv\",\n",
    "    model=\"BasicXGBOOST1\",\n",
    "    featurizer=\"Featurizer2\",\n",
    "    seq_len=100,\n",
    "    predict_horizon=10,\n",
    "    make_new_features= False,\n",
    "    use_kfold=True, \n",
    "    use_ta = False\n",
    ")\n",
    "run_pipeline(args)"
   ]
  },
  {
   "cell_type": "markdown",
   "metadata": {},
   "source": [
    "### 2. OHLCV + Technical Indicators"
   ]
  },
  {
   "cell_type": "code",
   "execution_count": null,
   "metadata": {},
   "outputs": [
    {
     "name": "stdout",
     "output_type": "stream",
     "text": [
      "Dataset Columns: ['open_ohlcv', 'high_ohlcv', 'low_ohlcv', 'close_ohlcv', 'volume_ohlcv', 'sma_5_ohlcv', 'sma_10_ohlcv', 'sma_20_ohlcv', 'sma_30_ohlcv', 'sma_60_ohlcv', 'sma_200_ohlcv', 'ema_12_ohlcv', 'ema_26_ohlcv', 'ema_50_ohlcv', 'ema_200_ohlcv', 'rsi_14_ohlcv', 'rsi_30_ohlcv', 'rsi_50_ohlcv', 'vwap_typical_ohlcv_ohlcv', 'lowest_low_ohlcv', 'highest_high_ohlcv', 'stochastic_k_ohlcv', 'stochastic_d_ohlcv']\n",
      "fitting Kfold\n"
     ]
    }
   ],
   "source": [
    "args = Namespace(\n",
    "    dataset_version=\"Dataset2\",\n",
    "    data_type = \"ohlcv\",\n",
    "    model=\"BasicXGBOOST1\",\n",
    "    featurizer=\"Featurizer2\",\n",
    "    seq_len=100,\n",
    "    predict_horizon=10,\n",
    "    make_new_features= False,\n",
    "    use_kfold=True, \n",
    "    use_ta = True\n",
    ")\n",
    "run_pipeline(args)"
   ]
  },
  {
   "cell_type": "markdown",
   "metadata": {},
   "source": [
    "### 3. OHLCV+ Best Bid Offer (BBO)"
   ]
  },
  {
   "cell_type": "code",
   "execution_count": null,
   "metadata": {},
   "outputs": [],
   "source": [
    "args = Namespace(\n",
    "    dataset_version=\"Dataset2\",\n",
    "    data_type = [\"bbo\", \"ohlcv\"],\n",
    "    model=\"BasicXGBOOST1\",\n",
    "    featurizer=\"Featurizer2\",\n",
    "    seq_len=100,\n",
    "    predict_horizon=10,\n",
    "    make_new_features= False,\n",
    "    use_kfold=True, \n",
    "    use_ta = False\n",
    ")\n",
    "run_pipeline(args)"
   ]
  },
  {
   "cell_type": "code",
   "execution_count": null,
   "metadata": {},
   "outputs": [],
   "source": [
    "args = Namespace(\n",
    "    dataset_version=\"Dataset2\",\n",
    "    data_type = [\"bbo\", \"ohlcv\"],\n",
    "    model=\"BasicXGBOOST1\",\n",
    "    featurizer=\"Featurizer2\",\n",
    "    seq_len=100,\n",
    "    predict_horizon=10,\n",
    "    make_new_features= False,\n",
    "    use_kfold=True, \n",
    "    use_ta = True   \n",
    ")\n",
    "run_pipeline(args)"
   ]
  },
  {
   "cell_type": "markdown",
   "metadata": {},
   "source": [
    "### 4. OHLCV + Imbalance"
   ]
  },
  {
   "cell_type": "code",
   "execution_count": 5,
   "metadata": {},
   "outputs": [
    {
     "name": "stdout",
     "output_type": "stream",
     "text": [
      "Dataset Columns: ['open_ohlcv', 'high_ohlcv', 'low_ohlcv', 'close_ohlcv', 'volume_ohlcv', 'ref_price_mean_imbalance', 'ref_price_std_imbalance', 'ref_price_median_imbalance', 'ref_price_min_imbalance', 'ref_price_max_imbalance', 'cont_book_clr_price_mean_imbalance', 'auct_interest_clr_price_mean_imbalance', 'total_paired_qty_imbalance', 'total_imbalance_qty_imbalance', 'mean_imbalance_qty_imbalance', 'imbalance_ratio_mean_imbalance', 'imbalance_ratio_std_imbalance', 'dominant_side_imbalance', 'auction_type_imbalance', 'significant_imbalance_count_imbalance', 'interval_duration_imbalance', 'updates_per_second_imbalance', 'mean_price_change_imbalance', 'std_price_change_imbalance', 'max_price_change_imbalance']\n",
      "fitting Kfold\n"
     ]
    },
    {
     "name": "stderr",
     "output_type": "stream",
     "text": [
      "/Users/carloteufel/Documents/Projects/FeatureEngineering/.venv/lib/python3.11/site-packages/sklearn/utils/extmath.py:1101: RuntimeWarning: invalid value encountered in divide\n",
      "  updated_mean = (last_sum + new_sum) / updated_sample_count\n",
      "/Users/carloteufel/Documents/Projects/FeatureEngineering/.venv/lib/python3.11/site-packages/sklearn/utils/extmath.py:1106: RuntimeWarning: invalid value encountered in divide\n",
      "  T = new_sum / new_sample_count\n",
      "/Users/carloteufel/Documents/Projects/FeatureEngineering/.venv/lib/python3.11/site-packages/sklearn/utils/extmath.py:1126: RuntimeWarning: invalid value encountered in divide\n",
      "  new_unnormalized_variance -= correction**2 / new_sample_count\n",
      "/Users/carloteufel/Documents/Projects/FeatureEngineering/.venv/lib/python3.11/site-packages/sklearn/utils/extmath.py:1101: RuntimeWarning: invalid value encountered in divide\n",
      "  updated_mean = (last_sum + new_sum) / updated_sample_count\n",
      "/Users/carloteufel/Documents/Projects/FeatureEngineering/.venv/lib/python3.11/site-packages/sklearn/utils/extmath.py:1106: RuntimeWarning: invalid value encountered in divide\n",
      "  T = new_sum / new_sample_count\n",
      "/Users/carloteufel/Documents/Projects/FeatureEngineering/.venv/lib/python3.11/site-packages/sklearn/utils/extmath.py:1126: RuntimeWarning: invalid value encountered in divide\n",
      "  new_unnormalized_variance -= correction**2 / new_sample_count\n",
      "/Users/carloteufel/Documents/Projects/FeatureEngineering/.venv/lib/python3.11/site-packages/sklearn/utils/extmath.py:1101: RuntimeWarning: invalid value encountered in divide\n",
      "  updated_mean = (last_sum + new_sum) / updated_sample_count\n",
      "/Users/carloteufel/Documents/Projects/FeatureEngineering/.venv/lib/python3.11/site-packages/sklearn/utils/extmath.py:1106: RuntimeWarning: invalid value encountered in divide\n",
      "  T = new_sum / new_sample_count\n",
      "/Users/carloteufel/Documents/Projects/FeatureEngineering/.venv/lib/python3.11/site-packages/sklearn/utils/extmath.py:1126: RuntimeWarning: invalid value encountered in divide\n",
      "  new_unnormalized_variance -= correction**2 / new_sample_count\n",
      "/Users/carloteufel/Documents/Projects/FeatureEngineering/.venv/lib/python3.11/site-packages/sklearn/utils/extmath.py:1101: RuntimeWarning: invalid value encountered in divide\n",
      "  updated_mean = (last_sum + new_sum) / updated_sample_count\n",
      "/Users/carloteufel/Documents/Projects/FeatureEngineering/.venv/lib/python3.11/site-packages/sklearn/utils/extmath.py:1106: RuntimeWarning: invalid value encountered in divide\n",
      "  T = new_sum / new_sample_count\n",
      "/Users/carloteufel/Documents/Projects/FeatureEngineering/.venv/lib/python3.11/site-packages/sklearn/utils/extmath.py:1126: RuntimeWarning: invalid value encountered in divide\n",
      "  new_unnormalized_variance -= correction**2 / new_sample_count\n",
      "/Users/carloteufel/Documents/Projects/FeatureEngineering/.venv/lib/python3.11/site-packages/sklearn/utils/extmath.py:1101: RuntimeWarning: invalid value encountered in divide\n",
      "  updated_mean = (last_sum + new_sum) / updated_sample_count\n",
      "/Users/carloteufel/Documents/Projects/FeatureEngineering/.venv/lib/python3.11/site-packages/sklearn/utils/extmath.py:1106: RuntimeWarning: invalid value encountered in divide\n",
      "  T = new_sum / new_sample_count\n",
      "/Users/carloteufel/Documents/Projects/FeatureEngineering/.venv/lib/python3.11/site-packages/sklearn/utils/extmath.py:1126: RuntimeWarning: invalid value encountered in divide\n",
      "  new_unnormalized_variance -= correction**2 / new_sample_count\n"
     ]
    },
    {
     "name": "stdout",
     "output_type": "stream",
     "text": [
      "Cross-validation scores: [0.4367928  0.43898284 0.43886118 0.46623677 0.4421868 ]\n",
      "Mean accuracy: 0.4446120777061281\n",
      "Training model\n"
     ]
    },
    {
     "name": "stderr",
     "output_type": "stream",
     "text": [
      "/Users/carloteufel/Documents/Projects/FeatureEngineering/.venv/lib/python3.11/site-packages/sklearn/utils/extmath.py:1101: RuntimeWarning: invalid value encountered in divide\n",
      "  updated_mean = (last_sum + new_sum) / updated_sample_count\n",
      "/Users/carloteufel/Documents/Projects/FeatureEngineering/.venv/lib/python3.11/site-packages/sklearn/utils/extmath.py:1106: RuntimeWarning: invalid value encountered in divide\n",
      "  T = new_sum / new_sample_count\n",
      "/Users/carloteufel/Documents/Projects/FeatureEngineering/.venv/lib/python3.11/site-packages/sklearn/utils/extmath.py:1126: RuntimeWarning: invalid value encountered in divide\n",
      "  new_unnormalized_variance -= correction**2 / new_sample_count\n"
     ]
    },
    {
     "name": "stdout",
     "output_type": "stream",
     "text": [
      "Evaluating model\n",
      "Accuracy: 0.46700734071460437\n",
      "Evaluating accuracy over time\n"
     ]
    },
    {
     "name": "stderr",
     "output_type": "stream",
     "text": [
      "100%|██████████| 25/25 [00:13<00:00,  1.79it/s]\n"
     ]
    },
    {
     "name": "stdout",
     "output_type": "stream",
     "text": [
      "Saving model\n",
      "Model saved to saved_models/BasicXGBOOST1_Dataset2_Featurizer2_2025-04-02_17:36:18\n"
     ]
    }
   ],
   "source": [
    "args = Namespace(\n",
    "    dataset_version=\"Dataset2\",\n",
    "    data_type = [\"imbalance\", \"ohlcv\"],\n",
    "    model=\"BasicXGBOOST1\",\n",
    "    featurizer=\"Featurizer2\",\n",
    "    seq_len=100,\n",
    "    predict_horizon=10,\n",
    "    make_new_features= False,\n",
    "    use_kfold=True, \n",
    "    use_ta = False\n",
    ")\n",
    "run_pipeline(args)"
   ]
  },
  {
   "cell_type": "code",
   "execution_count": 6,
   "metadata": {},
   "outputs": [
    {
     "name": "stdout",
     "output_type": "stream",
     "text": [
      "Dataset Columns: ['open_ohlcv', 'high_ohlcv', 'low_ohlcv', 'close_ohlcv', 'volume_ohlcv', 'sma_5_ohlcv', 'sma_10_ohlcv', 'sma_20_ohlcv', 'sma_30_ohlcv', 'sma_60_ohlcv', 'sma_200_ohlcv', 'ema_12_ohlcv', 'ema_26_ohlcv', 'ema_50_ohlcv', 'ema_200_ohlcv', 'rsi_14_ohlcv', 'rsi_30_ohlcv', 'rsi_50_ohlcv', 'vwap_typical_ohlcv_ohlcv', 'lowest_low_ohlcv', 'highest_high_ohlcv', 'stochastic_k_ohlcv', 'stochastic_d_ohlcv', 'ref_price_mean_imbalance', 'ref_price_std_imbalance', 'ref_price_median_imbalance', 'ref_price_min_imbalance', 'ref_price_max_imbalance', 'cont_book_clr_price_mean_imbalance', 'auct_interest_clr_price_mean_imbalance', 'total_paired_qty_imbalance', 'total_imbalance_qty_imbalance', 'mean_imbalance_qty_imbalance', 'imbalance_ratio_mean_imbalance', 'imbalance_ratio_std_imbalance', 'dominant_side_imbalance', 'auction_type_imbalance', 'significant_imbalance_count_imbalance', 'interval_duration_imbalance', 'updates_per_second_imbalance', 'mean_price_change_imbalance', 'std_price_change_imbalance', 'max_price_change_imbalance']\n",
      "fitting Kfold\n"
     ]
    },
    {
     "name": "stderr",
     "output_type": "stream",
     "text": [
      "/Users/carloteufel/Documents/Projects/FeatureEngineering/.venv/lib/python3.11/site-packages/sklearn/utils/extmath.py:1101: RuntimeWarning: invalid value encountered in divide\n",
      "  updated_mean = (last_sum + new_sum) / updated_sample_count\n",
      "/Users/carloteufel/Documents/Projects/FeatureEngineering/.venv/lib/python3.11/site-packages/sklearn/utils/extmath.py:1106: RuntimeWarning: invalid value encountered in divide\n",
      "  T = new_sum / new_sample_count\n",
      "/Users/carloteufel/Documents/Projects/FeatureEngineering/.venv/lib/python3.11/site-packages/sklearn/utils/extmath.py:1126: RuntimeWarning: invalid value encountered in divide\n",
      "  new_unnormalized_variance -= correction**2 / new_sample_count\n",
      "/Users/carloteufel/Documents/Projects/FeatureEngineering/.venv/lib/python3.11/site-packages/sklearn/utils/extmath.py:1101: RuntimeWarning: invalid value encountered in divide\n",
      "  updated_mean = (last_sum + new_sum) / updated_sample_count\n",
      "/Users/carloteufel/Documents/Projects/FeatureEngineering/.venv/lib/python3.11/site-packages/sklearn/utils/extmath.py:1106: RuntimeWarning: invalid value encountered in divide\n",
      "  T = new_sum / new_sample_count\n",
      "/Users/carloteufel/Documents/Projects/FeatureEngineering/.venv/lib/python3.11/site-packages/sklearn/utils/extmath.py:1126: RuntimeWarning: invalid value encountered in divide\n",
      "  new_unnormalized_variance -= correction**2 / new_sample_count\n",
      "/Users/carloteufel/Documents/Projects/FeatureEngineering/.venv/lib/python3.11/site-packages/sklearn/utils/extmath.py:1101: RuntimeWarning: invalid value encountered in divide\n",
      "  updated_mean = (last_sum + new_sum) / updated_sample_count\n",
      "/Users/carloteufel/Documents/Projects/FeatureEngineering/.venv/lib/python3.11/site-packages/sklearn/utils/extmath.py:1106: RuntimeWarning: invalid value encountered in divide\n",
      "  T = new_sum / new_sample_count\n",
      "/Users/carloteufel/Documents/Projects/FeatureEngineering/.venv/lib/python3.11/site-packages/sklearn/utils/extmath.py:1126: RuntimeWarning: invalid value encountered in divide\n",
      "  new_unnormalized_variance -= correction**2 / new_sample_count\n",
      "/Users/carloteufel/Documents/Projects/FeatureEngineering/.venv/lib/python3.11/site-packages/sklearn/utils/extmath.py:1101: RuntimeWarning: invalid value encountered in divide\n",
      "  updated_mean = (last_sum + new_sum) / updated_sample_count\n",
      "/Users/carloteufel/Documents/Projects/FeatureEngineering/.venv/lib/python3.11/site-packages/sklearn/utils/extmath.py:1106: RuntimeWarning: invalid value encountered in divide\n",
      "  T = new_sum / new_sample_count\n",
      "/Users/carloteufel/Documents/Projects/FeatureEngineering/.venv/lib/python3.11/site-packages/sklearn/utils/extmath.py:1126: RuntimeWarning: invalid value encountered in divide\n",
      "  new_unnormalized_variance -= correction**2 / new_sample_count\n",
      "/Users/carloteufel/Documents/Projects/FeatureEngineering/.venv/lib/python3.11/site-packages/sklearn/utils/extmath.py:1101: RuntimeWarning: invalid value encountered in divide\n",
      "  updated_mean = (last_sum + new_sum) / updated_sample_count\n",
      "/Users/carloteufel/Documents/Projects/FeatureEngineering/.venv/lib/python3.11/site-packages/sklearn/utils/extmath.py:1106: RuntimeWarning: invalid value encountered in divide\n",
      "  T = new_sum / new_sample_count\n",
      "/Users/carloteufel/Documents/Projects/FeatureEngineering/.venv/lib/python3.11/site-packages/sklearn/utils/extmath.py:1126: RuntimeWarning: invalid value encountered in divide\n",
      "  new_unnormalized_variance -= correction**2 / new_sample_count\n"
     ]
    },
    {
     "name": "stdout",
     "output_type": "stream",
     "text": [
      "Cross-validation scores: [0.80987144 0.80995255 0.79624447 0.80046234 0.80042179]\n",
      "Mean accuracy: 0.8033905179056658\n",
      "Training model\n"
     ]
    },
    {
     "name": "stderr",
     "output_type": "stream",
     "text": [
      "/Users/carloteufel/Documents/Projects/FeatureEngineering/.venv/lib/python3.11/site-packages/sklearn/utils/extmath.py:1101: RuntimeWarning: invalid value encountered in divide\n",
      "  updated_mean = (last_sum + new_sum) / updated_sample_count\n",
      "/Users/carloteufel/Documents/Projects/FeatureEngineering/.venv/lib/python3.11/site-packages/sklearn/utils/extmath.py:1106: RuntimeWarning: invalid value encountered in divide\n",
      "  T = new_sum / new_sample_count\n",
      "/Users/carloteufel/Documents/Projects/FeatureEngineering/.venv/lib/python3.11/site-packages/sklearn/utils/extmath.py:1126: RuntimeWarning: invalid value encountered in divide\n",
      "  new_unnormalized_variance -= correction**2 / new_sample_count\n"
     ]
    },
    {
     "name": "stdout",
     "output_type": "stream",
     "text": [
      "Evaluating model\n",
      "Accuracy: 0.8048018818185505\n",
      "Evaluating accuracy over time\n"
     ]
    },
    {
     "name": "stderr",
     "output_type": "stream",
     "text": [
      "100%|██████████| 43/43 [00:41<00:00,  1.04it/s]\n"
     ]
    },
    {
     "name": "stdout",
     "output_type": "stream",
     "text": [
      "Saving model\n",
      "Model saved to saved_models/BasicXGBOOST1_Dataset2_Featurizer2_2025-04-02_17:38:39\n"
     ]
    }
   ],
   "source": [
    "args = Namespace(\n",
    "    dataset_version=\"Dataset2\",\n",
    "    data_type = [\"imbalance\", \"ohlcv\"],\n",
    "    model=\"BasicXGBOOST1\",\n",
    "    featurizer=\"Featurizer2\",\n",
    "    seq_len=100,\n",
    "    predict_horizon=10,\n",
    "    make_new_features= False,\n",
    "    use_kfold=True, \n",
    "    use_ta = True\n",
    ")\n",
    "run_pipeline(args)"
   ]
  },
  {
   "cell_type": "code",
   "execution_count": null,
   "metadata": {},
   "outputs": [],
   "source": []
  }
 ],
 "metadata": {
  "kernelspec": {
   "display_name": ".venv",
   "language": "python",
   "name": "python3"
  },
  "language_info": {
   "codemirror_mode": {
    "name": "ipython",
    "version": 3
   },
   "file_extension": ".py",
   "mimetype": "text/x-python",
   "name": "python",
   "nbconvert_exporter": "python",
   "pygments_lexer": "ipython3",
   "version": "3.11.8"
  }
 },
 "nbformat": 4,
 "nbformat_minor": 2
}
