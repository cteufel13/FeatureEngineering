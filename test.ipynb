{
 "cells": [
  {
   "cell_type": "code",
   "execution_count": 1,
   "metadata": {},
   "outputs": [],
   "source": [
    "from src.data.datagen import DataFetcher\n",
    "import os"
   ]
  },
  {
   "cell_type": "code",
   "execution_count": 2,
   "metadata": {},
   "outputs": [],
   "source": [
    "datagen = DataFetcher()"
   ]
  },
  {
   "cell_type": "code",
   "execution_count": 3,
   "metadata": {},
   "outputs": [
    {
     "name": "stdout",
     "output_type": "stream",
     "text": [
      "Working on: xnas-itch-20180501-20250314.ohlcv-1m.parquet\n",
      "Joining AMD_ohlcv-1m.parquet\n",
      "Joining NVDA_ohlcv-1m.parquet\n",
      "Joining INTC_ohlcv-1m.parquet\n"
     ]
    }
   ],
   "source": [
    "schemas = [\"bbo-1m\", \"imbalance\", \"ohlcv-1m\"]\n",
    "\n",
    "merges = datagen.join_cache(schemas)"
   ]
  },
  {
   "cell_type": "code",
   "execution_count": null,
   "metadata": {},
   "outputs": [],
   "source": [
    "# import databento as db\n",
    "# import os\n",
    "\n",
    "\n",
    "\n",
    "# path = 'data/temp/xnas-itch-20180501-20250314.ohlcv-1m.dbn.zst'\n",
    "\n",
    "# with open(path, \"rb\") as saved:\n",
    "#     stored_data = db.DBNStore.from_bytes(saved).to_df()\n",
    "\n",
    "# stored_data.to_parquet(\"data/raw/xnas-itch-20180501-20250314.ohlcv-1m.parquet\")"
   ]
  },
  {
   "cell_type": "code",
   "execution_count": null,
   "metadata": {},
   "outputs": [],
   "source": []
  }
 ],
 "metadata": {
  "kernelspec": {
   "display_name": ".venv",
   "language": "python",
   "name": "python3"
  },
  "language_info": {
   "codemirror_mode": {
    "name": "ipython",
    "version": 3
   },
   "file_extension": ".py",
   "mimetype": "text/x-python",
   "name": "python",
   "nbconvert_exporter": "python",
   "pygments_lexer": "ipython3",
   "version": "3.11.8"
  }
 },
 "nbformat": 4,
 "nbformat_minor": 2
}
