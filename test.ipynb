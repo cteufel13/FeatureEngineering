{
 "cells": [
  {
   "cell_type": "code",
   "execution_count": 1,
   "metadata": {},
   "outputs": [],
   "source": [
    "from src.features.featurizer import Featurizer2\n",
    "import polars as pl"
   ]
  },
  {
   "cell_type": "code",
   "execution_count": 2,
   "metadata": {},
   "outputs": [],
   "source": [
    "featurizer = Featurizer2()\n"
   ]
  },
  {
   "cell_type": "code",
   "execution_count": 3,
   "metadata": {},
   "outputs": [
    {
     "name": "stdout",
     "output_type": "stream",
     "text": [
      "['xnas-itch-20180501-20250314.ohlcv-1m.parquet', 'xnas-itch-20180501-20250314.bbo-1m.parquet', 'xnas-itch-20180501-20250314.imbalance.parquet']\n",
      "['AAPL', 'AMZN', 'META', 'TSLA', 'NFLX', 'MSFT', 'AVGO', 'ADBE', 'IBM', 'GOOGL', 'NVDA', 'INTC', 'AMD']\n",
      "['ohlcv-1m', 'bbo-1m', 'imbalance']\n"
     ]
    }
   ],
   "source": [
    "print(featurizer.raw_data_paths)\n",
    "print(featurizer.symbols)\n",
    "print(featurizer.schemas)"
   ]
  },
  {
   "cell_type": "code",
   "execution_count": 4,
   "metadata": {},
   "outputs": [
    {
     "name": "stdout",
     "output_type": "stream",
     "text": [
      "time_index shape: (10_029_511, 5)\n",
      "┌─────────────────────────┬───────┬──────────────┬───────────────┬────────┐\n",
      "│ ts_event                ┆ rtype ┆ publisher_id ┆ instrument_id ┆ symbol │\n",
      "│ ---                     ┆ ---   ┆ ---          ┆ ---           ┆ ---    │\n",
      "│ datetime[ns, UTC]       ┆ u8    ┆ u16          ┆ u32           ┆ str    │\n",
      "╞═════════════════════════╪═══════╪══════════════╪═══════════════╪════════╡\n",
      "│ 2018-05-01 08:11:00 UTC ┆ 33    ┆ 2            ┆ 3363          ┆ GOOGL  │\n",
      "│ 2018-05-01 08:27:00 UTC ┆ 33    ┆ 2            ┆ 13            ┆ AAPL   │\n",
      "│ 2018-05-01 08:30:00 UTC ┆ 33    ┆ 2            ┆ 5156          ┆ MSFT   │\n",
      "│ 2018-05-01 08:35:00 UTC ┆ 33    ┆ 2            ┆ 13            ┆ AAPL   │\n",
      "│ 2018-05-01 08:38:00 UTC ┆ 33    ┆ 2            ┆ 13            ┆ AAPL   │\n",
      "│ …                       ┆ …     ┆ …            ┆ …             ┆ …      │\n",
      "│ 2025-03-14 23:59:00 UTC ┆ 33    ┆ 2            ┆ 1429          ┆ AVGO   │\n",
      "│ 2025-03-14 23:59:00 UTC ┆ 33    ┆ 2            ┆ 10888         ┆ MSFT   │\n",
      "│ 2025-03-14 23:59:00 UTC ┆ 33    ┆ 2            ┆ 16244         ┆ TSLA   │\n",
      "│ 2025-03-14 23:59:00 UTC ┆ 33    ┆ 2            ┆ 10451         ┆ META   │\n",
      "│ 2025-03-14 23:59:00 UTC ┆ 33    ┆ 2            ┆ 38            ┆ AAPL   │\n",
      "└─────────────────────────┴───────┴──────────────┴───────────────┴────────┘\n"
     ]
    },
    {
     "ename": "SchemaError",
     "evalue": "type Int32 is incompatible with expected type String",
     "output_type": "error",
     "traceback": [
      "\u001b[0;31m---------------------------------------------------------------------------\u001b[0m",
      "\u001b[0;31mSchemaError\u001b[0m                               Traceback (most recent call last)",
      "\u001b[0;32m/var/folders/7k/ytnljb093xg6bbfksvnhyg940000gn/T/ipykernel_4579/3104274572.py\u001b[0m in \u001b[0;36m?\u001b[0;34m()\u001b[0m\n\u001b[0;32m----> 1\u001b[0;31m \u001b[0mohlcv_data\u001b[0m\u001b[0;34m,\u001b[0m \u001b[0mbbo_data\u001b[0m\u001b[0;34m,\u001b[0m \u001b[0mimbalance_data\u001b[0m \u001b[0;34m=\u001b[0m \u001b[0mfeaturizer\u001b[0m\u001b[0;34m.\u001b[0m\u001b[0mprocess\u001b[0m\u001b[0;34m(\u001b[0m\u001b[0;34m)\u001b[0m\u001b[0;34m\u001b[0m\u001b[0;34m\u001b[0m\u001b[0m\n\u001b[0m",
      "\u001b[0;32m~/Documents/Projects/FeatureEngineering/src/features/featurizer.py\u001b[0m in \u001b[0;36m?\u001b[0;34m(self)\u001b[0m\n\u001b[1;32m     52\u001b[0m         )\n\u001b[1;32m     53\u001b[0m \u001b[0;34m\u001b[0m\u001b[0m\n\u001b[1;32m     54\u001b[0m         \u001b[0mprint\u001b[0m\u001b[0;34m(\u001b[0m\u001b[0;34m\"time_index\"\u001b[0m\u001b[0;34m,\u001b[0m \u001b[0mtime_symbol\u001b[0m\u001b[0;34m)\u001b[0m\u001b[0;34m\u001b[0m\u001b[0;34m\u001b[0m\u001b[0m\n\u001b[1;32m     55\u001b[0m \u001b[0;34m\u001b[0m\u001b[0m\n\u001b[0;32m---> 56\u001b[0;31m         \u001b[0mbbo_data\u001b[0m \u001b[0;34m=\u001b[0m \u001b[0mself\u001b[0m\u001b[0;34m.\u001b[0m\u001b[0mprocess_bbos\u001b[0m\u001b[0;34m(\u001b[0m\u001b[0mbbo_data\u001b[0m\u001b[0;34m,\u001b[0m \u001b[0mtime_symbol\u001b[0m\u001b[0;34m)\u001b[0m\u001b[0;34m\u001b[0m\u001b[0;34m\u001b[0m\u001b[0m\n\u001b[0m\u001b[1;32m     57\u001b[0m \u001b[0;34m\u001b[0m\u001b[0m\n\u001b[1;32m     58\u001b[0m         \u001b[0;32mreturn\u001b[0m \u001b[0mohlcv_data\u001b[0m\u001b[0;34m,\u001b[0m \u001b[0mbbo_data\u001b[0m\u001b[0;34m,\u001b[0m \u001b[0mimbalance_data\u001b[0m\u001b[0;34m\u001b[0m\u001b[0;34m\u001b[0m\u001b[0m\n",
      "\u001b[0;32m~/Documents/Projects/FeatureEngineering/src/features/featurizer.py\u001b[0m in \u001b[0;36m?\u001b[0;34m(self, bbo_data, time_symbol)\u001b[0m\n\u001b[1;32m    136\u001b[0m \u001b[0;34m\u001b[0m\u001b[0m\n\u001b[1;32m    137\u001b[0m                 interval_statistics = self.calc_bbo_statistics(\n\u001b[1;32m    138\u001b[0m                     \u001b[0mbbo_interval\u001b[0m\u001b[0;34m,\u001b[0m \u001b[0mbbo_downsampled\u001b[0m\u001b[0;34m.\u001b[0m\u001b[0mschema\u001b[0m\u001b[0;34m,\u001b[0m \u001b[0msymbol\u001b[0m\u001b[0;34m,\u001b[0m \u001b[0mend_min\u001b[0m\u001b[0;34m\u001b[0m\u001b[0;34m\u001b[0m\u001b[0m\n\u001b[1;32m    139\u001b[0m                 )\n\u001b[0;32m--> 140\u001b[0;31m                 \u001b[0mbbo_downsampled\u001b[0m \u001b[0;34m=\u001b[0m \u001b[0mbbo_downsampled\u001b[0m\u001b[0;34m.\u001b[0m\u001b[0mextend\u001b[0m\u001b[0;34m(\u001b[0m\u001b[0minterval_statistics\u001b[0m\u001b[0;34m)\u001b[0m\u001b[0;34m\u001b[0m\u001b[0;34m\u001b[0m\u001b[0m\n\u001b[0m\u001b[1;32m    141\u001b[0m \u001b[0;34m\u001b[0m\u001b[0m\n\u001b[1;32m    142\u001b[0m             \u001b[0;32mbreak\u001b[0m\u001b[0;34m\u001b[0m\u001b[0;34m\u001b[0m\u001b[0m\n",
      "\u001b[0;32m~/Documents/Projects/FeatureEngineering/.venv/lib/python3.11/site-packages/polars/dataframe/frame.py\u001b[0m in \u001b[0;36m?\u001b[0;34m(self, other)\u001b[0m\n\u001b[1;32m   8103\u001b[0m         \u001b[0;31m└\u001b[0m\u001b[0;31m─\u001b[0m\u001b[0;31m─\u001b[0m\u001b[0;31m─\u001b[0m\u001b[0;31m─\u001b[0m\u001b[0;31m─\u001b[0m\u001b[0;31m┴\u001b[0m\u001b[0;31m─\u001b[0m\u001b[0;31m─\u001b[0m\u001b[0;31m─\u001b[0m\u001b[0;31m─\u001b[0m\u001b[0;31m─\u001b[0m\u001b[0;31m┘\u001b[0m\u001b[0;34m\u001b[0m\u001b[0;34m\u001b[0m\u001b[0m\n\u001b[1;32m   8104\u001b[0m         \"\"\"\n\u001b[1;32m   8105\u001b[0m         \u001b[0;32mtry\u001b[0m\u001b[0;34m:\u001b[0m\u001b[0;34m\u001b[0m\u001b[0;34m\u001b[0m\u001b[0m\n\u001b[1;32m   8106\u001b[0m             \u001b[0mself\u001b[0m\u001b[0;34m.\u001b[0m\u001b[0m_df\u001b[0m\u001b[0;34m.\u001b[0m\u001b[0mextend\u001b[0m\u001b[0;34m(\u001b[0m\u001b[0mother\u001b[0m\u001b[0;34m.\u001b[0m\u001b[0m_df\u001b[0m\u001b[0;34m)\u001b[0m\u001b[0;34m\u001b[0m\u001b[0;34m\u001b[0m\u001b[0m\n\u001b[0;32m-> 8107\u001b[0;31m         \u001b[0;32mexcept\u001b[0m \u001b[0mRuntimeError\u001b[0m \u001b[0;32mas\u001b[0m \u001b[0mexc\u001b[0m\u001b[0;34m:\u001b[0m\u001b[0;34m\u001b[0m\u001b[0;34m\u001b[0m\u001b[0m\n\u001b[0m\u001b[1;32m   8108\u001b[0m             \u001b[0;32mif\u001b[0m \u001b[0mstr\u001b[0m\u001b[0;34m(\u001b[0m\u001b[0mexc\u001b[0m\u001b[0;34m)\u001b[0m \u001b[0;34m==\u001b[0m \u001b[0;34m\"Already mutably borrowed\"\u001b[0m\u001b[0;34m:\u001b[0m\u001b[0;34m\u001b[0m\u001b[0;34m\u001b[0m\u001b[0m\n\u001b[1;32m   8109\u001b[0m                 \u001b[0mself\u001b[0m\u001b[0;34m.\u001b[0m\u001b[0m_df\u001b[0m\u001b[0;34m.\u001b[0m\u001b[0mextend\u001b[0m\u001b[0;34m(\u001b[0m\u001b[0mother\u001b[0m\u001b[0;34m.\u001b[0m\u001b[0m_df\u001b[0m\u001b[0;34m.\u001b[0m\u001b[0mclone\u001b[0m\u001b[0;34m(\u001b[0m\u001b[0;34m)\u001b[0m\u001b[0;34m)\u001b[0m\u001b[0;34m\u001b[0m\u001b[0;34m\u001b[0m\u001b[0m\n\u001b[1;32m   8110\u001b[0m             \u001b[0;32melse\u001b[0m\u001b[0;34m:\u001b[0m\u001b[0;34m\u001b[0m\u001b[0;34m\u001b[0m\u001b[0m\n",
      "\u001b[0;31mSchemaError\u001b[0m: type Int32 is incompatible with expected type String"
     ]
    }
   ],
   "source": [
    "ohlcv_data, bbo_data, imbalance_data = featurizer.process()"
   ]
  },
  {
   "cell_type": "code",
   "execution_count": null,
   "metadata": {},
   "outputs": [
    {
     "data": {
      "text/html": [
       "<div><style>\n",
       ".dataframe > thead > tr,\n",
       ".dataframe > tbody > tr {\n",
       "  text-align: right;\n",
       "  white-space: pre-wrap;\n",
       "}\n",
       "</style>\n",
       "<small>shape: (1_321_072, 10)</small><table border=\"1\" class=\"dataframe\"><thead><tr><th>ts_event</th><th>rtype</th><th>publisher_id</th><th>instrument_id</th><th>open</th><th>high</th><th>low</th><th>close</th><th>volume</th><th>symbol</th></tr><tr><td>datetime[ns, UTC]</td><td>u8</td><td>u16</td><td>u32</td><td>f64</td><td>f64</td><td>f64</td><td>f64</td><td>u64</td><td>str</td></tr></thead><tbody><tr><td>2018-05-01 08:27:00 UTC</td><td>33</td><td>2</td><td>13</td><td>166.4</td><td>166.4</td><td>166.4</td><td>166.4</td><td>3</td><td>&quot;AAPL&quot;</td></tr><tr><td>2018-05-01 08:35:00 UTC</td><td>33</td><td>2</td><td>13</td><td>166.39</td><td>166.39</td><td>166.39</td><td>166.39</td><td>2</td><td>&quot;AAPL&quot;</td></tr><tr><td>2018-05-01 08:38:00 UTC</td><td>33</td><td>2</td><td>13</td><td>166.1</td><td>166.1</td><td>166.05</td><td>166.05</td><td>1400</td><td>&quot;AAPL&quot;</td></tr><tr><td>2018-05-01 08:39:00 UTC</td><td>33</td><td>2</td><td>13</td><td>166.2</td><td>166.2</td><td>166.2</td><td>166.2</td><td>23</td><td>&quot;AAPL&quot;</td></tr><tr><td>2018-05-01 08:45:00 UTC</td><td>33</td><td>2</td><td>13</td><td>166.0</td><td>166.0</td><td>166.0</td><td>166.0</td><td>100</td><td>&quot;AAPL&quot;</td></tr><tr><td>&hellip;</td><td>&hellip;</td><td>&hellip;</td><td>&hellip;</td><td>&hellip;</td><td>&hellip;</td><td>&hellip;</td><td>&hellip;</td><td>&hellip;</td><td>&hellip;</td></tr><tr><td>2025-03-14 23:40:00 UTC</td><td>33</td><td>2</td><td>38</td><td>213.29</td><td>213.3</td><td>213.29</td><td>213.3</td><td>30</td><td>&quot;AAPL&quot;</td></tr><tr><td>2025-03-14 23:42:00 UTC</td><td>33</td><td>2</td><td>38</td><td>213.31</td><td>213.32</td><td>213.31</td><td>213.32</td><td>27</td><td>&quot;AAPL&quot;</td></tr><tr><td>2025-03-14 23:49:00 UTC</td><td>33</td><td>2</td><td>38</td><td>213.3</td><td>213.3</td><td>213.3</td><td>213.3</td><td>20</td><td>&quot;AAPL&quot;</td></tr><tr><td>2025-03-14 23:53:00 UTC</td><td>33</td><td>2</td><td>38</td><td>213.31</td><td>213.33</td><td>213.31</td><td>213.33</td><td>25</td><td>&quot;AAPL&quot;</td></tr><tr><td>2025-03-14 23:59:00 UTC</td><td>33</td><td>2</td><td>38</td><td>213.22</td><td>213.25</td><td>213.22</td><td>213.25</td><td>95</td><td>&quot;AAPL&quot;</td></tr></tbody></table></div>"
      ],
      "text/plain": [
       "shape: (1_321_072, 10)\n",
       "┌───────────────────┬───────┬──────────────┬───────────────┬───┬────────┬────────┬────────┬────────┐\n",
       "│ ts_event          ┆ rtype ┆ publisher_id ┆ instrument_id ┆ … ┆ low    ┆ close  ┆ volume ┆ symbol │\n",
       "│ ---               ┆ ---   ┆ ---          ┆ ---           ┆   ┆ ---    ┆ ---    ┆ ---    ┆ ---    │\n",
       "│ datetime[ns, UTC] ┆ u8    ┆ u16          ┆ u32           ┆   ┆ f64    ┆ f64    ┆ u64    ┆ str    │\n",
       "╞═══════════════════╪═══════╪══════════════╪═══════════════╪═══╪════════╪════════╪════════╪════════╡\n",
       "│ 2018-05-01        ┆ 33    ┆ 2            ┆ 13            ┆ … ┆ 166.4  ┆ 166.4  ┆ 3      ┆ AAPL   │\n",
       "│ 08:27:00 UTC      ┆       ┆              ┆               ┆   ┆        ┆        ┆        ┆        │\n",
       "│ 2018-05-01        ┆ 33    ┆ 2            ┆ 13            ┆ … ┆ 166.39 ┆ 166.39 ┆ 2      ┆ AAPL   │\n",
       "│ 08:35:00 UTC      ┆       ┆              ┆               ┆   ┆        ┆        ┆        ┆        │\n",
       "│ 2018-05-01        ┆ 33    ┆ 2            ┆ 13            ┆ … ┆ 166.05 ┆ 166.05 ┆ 1400   ┆ AAPL   │\n",
       "│ 08:38:00 UTC      ┆       ┆              ┆               ┆   ┆        ┆        ┆        ┆        │\n",
       "│ 2018-05-01        ┆ 33    ┆ 2            ┆ 13            ┆ … ┆ 166.2  ┆ 166.2  ┆ 23     ┆ AAPL   │\n",
       "│ 08:39:00 UTC      ┆       ┆              ┆               ┆   ┆        ┆        ┆        ┆        │\n",
       "│ 2018-05-01        ┆ 33    ┆ 2            ┆ 13            ┆ … ┆ 166.0  ┆ 166.0  ┆ 100    ┆ AAPL   │\n",
       "│ 08:45:00 UTC      ┆       ┆              ┆               ┆   ┆        ┆        ┆        ┆        │\n",
       "│ …                 ┆ …     ┆ …            ┆ …             ┆ … ┆ …      ┆ …      ┆ …      ┆ …      │\n",
       "│ 2025-03-14        ┆ 33    ┆ 2            ┆ 38            ┆ … ┆ 213.29 ┆ 213.3  ┆ 30     ┆ AAPL   │\n",
       "│ 23:40:00 UTC      ┆       ┆              ┆               ┆   ┆        ┆        ┆        ┆        │\n",
       "│ 2025-03-14        ┆ 33    ┆ 2            ┆ 38            ┆ … ┆ 213.31 ┆ 213.32 ┆ 27     ┆ AAPL   │\n",
       "│ 23:42:00 UTC      ┆       ┆              ┆               ┆   ┆        ┆        ┆        ┆        │\n",
       "│ 2025-03-14        ┆ 33    ┆ 2            ┆ 38            ┆ … ┆ 213.3  ┆ 213.3  ┆ 20     ┆ AAPL   │\n",
       "│ 23:49:00 UTC      ┆       ┆              ┆               ┆   ┆        ┆        ┆        ┆        │\n",
       "│ 2025-03-14        ┆ 33    ┆ 2            ┆ 38            ┆ … ┆ 213.31 ┆ 213.33 ┆ 25     ┆ AAPL   │\n",
       "│ 23:53:00 UTC      ┆       ┆              ┆               ┆   ┆        ┆        ┆        ┆        │\n",
       "│ 2025-03-14        ┆ 33    ┆ 2            ┆ 38            ┆ … ┆ 213.22 ┆ 213.25 ┆ 95     ┆ AAPL   │\n",
       "│ 23:59:00 UTC      ┆       ┆              ┆               ┆   ┆        ┆        ┆        ┆        │\n",
       "└───────────────────┴───────┴──────────────┴───────────────┴───┴────────┴────────┴────────┴────────┘"
      ]
     },
     "execution_count": 5,
     "metadata": {},
     "output_type": "execute_result"
    }
   ],
   "source": [
    "ohlcv_data.filter(pl.col(\"symbol\") == \"AAPL\")"
   ]
  },
  {
   "cell_type": "code",
   "execution_count": null,
   "metadata": {},
   "outputs": [],
   "source": [
    "bbo_data"
   ]
  },
  {
   "cell_type": "code",
   "execution_count": null,
   "metadata": {},
   "outputs": [
    {
     "data": {
      "text/html": [
       "<div><style>\n",
       ".dataframe > thead > tr,\n",
       ".dataframe > tbody > tr {\n",
       "  text-align: right;\n",
       "  white-space: pre-wrap;\n",
       "}\n",
       "</style>\n",
       "<small>shape: (7_558_702, 25)</small><table border=\"1\" class=\"dataframe\"><thead><tr><th>ts_event</th><th>rtype</th><th>publisher_id</th><th>instrument_id</th><th>ref_price</th><th>auction_time</th><th>cont_book_clr_price</th><th>auct_interest_clr_price</th><th>ssr_filling_price</th><th>ind_match_price</th><th>upper_collar</th><th>lower_collar</th><th>paired_qty</th><th>total_imbalance_qty</th><th>market_imbalance_qty</th><th>unpaired_qty</th><th>auction_type</th><th>side</th><th>auction_status</th><th>freeze_status</th><th>num_extensions</th><th>unpaired_side</th><th>significant_imbalance</th><th>symbol</th><th>ts_recv</th></tr><tr><td>datetime[ns, UTC]</td><td>u8</td><td>u16</td><td>u32</td><td>f64</td><td>u64</td><td>f64</td><td>f64</td><td>f64</td><td>f64</td><td>f64</td><td>f64</td><td>u32</td><td>u32</td><td>u32</td><td>u32</td><td>str</td><td>str</td><td>u8</td><td>u8</td><td>u8</td><td>str</td><td>str</td><td>str</td><td>datetime[ns, UTC]</td></tr></thead><tbody><tr><td>2018-05-01 13:28:00.029946658 UTC</td><td>20</td><td>2</td><td>89</td><td>220.68</td><td>0</td><td>220.68</td><td>220.68</td><td>0.0</td><td>0.0</td><td>0.0</td><td>0.0</td><td>26422</td><td>0</td><td>0</td><td>0</td><td>&quot;O&quot;</td><td>&quot;N&quot;</td><td>0</td><td>0</td><td>0</td><td>&quot;N&quot;</td><td>&quot;L&quot;</td><td>&quot;ADBE&quot;</td><td>2018-05-01 13:28:00.029957599 UTC</td></tr><tr><td>2018-05-01 13:28:00.068274053 UTC</td><td>20</td><td>2</td><td>5156</td><td>93.23</td><td>0</td><td>93.16</td><td>93.16</td><td>0.0</td><td>0.0</td><td>0.0</td><td>0.0</td><td>227040</td><td>10480</td><td>0</td><td>0</td><td>&quot;O&quot;</td><td>&quot;A&quot;</td><td>0</td><td>0</td><td>0</td><td>&quot;N&quot;</td><td>&quot;L&quot;</td><td>&quot;MSFT&quot;</td><td>2018-05-01 13:28:00.068284668 UTC</td></tr><tr><td>2018-05-01 13:28:00.073546234 UTC</td><td>20</td><td>2</td><td>601</td><td>229.92</td><td>0</td><td>229.92</td><td>229.92</td><td>0.0</td><td>0.0</td><td>0.0</td><td>0.0</td><td>28989</td><td>0</td><td>0</td><td>0</td><td>&quot;O&quot;</td><td>&quot;N&quot;</td><td>0</td><td>0</td><td>0</td><td>&quot;N&quot;</td><td>&quot;L&quot;</td><td>&quot;AVGO&quot;</td><td>2018-05-01 13:28:00.073557361 UTC</td></tr><tr><td>2018-05-01 13:28:00.087979785 UTC</td><td>20</td><td>2</td><td>375</td><td>1566.26</td><td>0</td><td>1562.73</td><td>1562.33</td><td>0.0</td><td>0.0</td><td>0.0</td><td>0.0</td><td>31124</td><td>15413</td><td>0</td><td>0</td><td>&quot;O&quot;</td><td>&quot;A&quot;</td><td>0</td><td>0</td><td>0</td><td>&quot;N&quot;</td><td>&quot;L&quot;</td><td>&quot;AMZN&quot;</td><td>2018-05-01 13:28:00.087991394 UTC</td></tr><tr><td>2018-05-01 13:28:00.088650077 UTC</td><td>20</td><td>2</td><td>5367</td><td>310.99</td><td>0</td><td>310.57</td><td>310.57</td><td>0.0</td><td>0.0</td><td>0.0</td><td>0.0</td><td>41760</td><td>9772</td><td>0</td><td>0</td><td>&quot;O&quot;</td><td>&quot;A&quot;</td><td>0</td><td>0</td><td>0</td><td>&quot;N&quot;</td><td>&quot;L&quot;</td><td>&quot;NFLX&quot;</td><td>2018-05-01 13:28:00.088660620 UTC</td></tr><tr><td>&hellip;</td><td>&hellip;</td><td>&hellip;</td><td>&hellip;</td><td>&hellip;</td><td>&hellip;</td><td>&hellip;</td><td>&hellip;</td><td>&hellip;</td><td>&hellip;</td><td>&hellip;</td><td>&hellip;</td><td>&hellip;</td><td>&hellip;</td><td>&hellip;</td><td>&hellip;</td><td>&hellip;</td><td>&hellip;</td><td>&hellip;</td><td>&hellip;</td><td>&hellip;</td><td>&hellip;</td><td>&hellip;</td><td>&hellip;</td><td>&hellip;</td></tr><tr><td>2025-03-14 20:05:00.024225436 UTC</td><td>20</td><td>2</td><td>11275</td><td>918.0</td><td>0</td><td>0.0</td><td>0.0</td><td>0.0</td><td>0.0</td><td>0.0</td><td>0.0</td><td>0</td><td>0</td><td>0</td><td>0</td><td>&quot;A&quot;</td><td>&quot;N&quot;</td><td>0</td><td>0</td><td>0</td><td>&quot;N&quot;</td><td>&quot;~&quot;</td><td>&quot;NFLX&quot;</td><td>2025-03-14 20:05:00.024391280 UTC</td></tr><tr><td>2025-03-14 20:05:00.024315038 UTC</td><td>20</td><td>2</td><td>16244</td><td>249.98</td><td>0</td><td>0.0</td><td>0.0</td><td>0.0</td><td>0.0</td><td>0.0</td><td>0.0</td><td>0</td><td>0</td><td>0</td><td>0</td><td>&quot;A&quot;</td><td>&quot;N&quot;</td><td>0</td><td>0</td><td>0</td><td>&quot;N&quot;</td><td>&quot;~&quot;</td><td>&quot;TSLA&quot;</td><td>2025-03-14 20:05:00.024480892 UTC</td></tr><tr><td>2025-03-14 20:05:00.025602266 UTC</td><td>20</td><td>2</td><td>38</td><td>213.49</td><td>0</td><td>0.0</td><td>0.0</td><td>0.0</td><td>0.0</td><td>0.0</td><td>0.0</td><td>0</td><td>0</td><td>0</td><td>0</td><td>&quot;A&quot;</td><td>&quot;N&quot;</td><td>0</td><td>0</td><td>0</td><td>&quot;N&quot;</td><td>&quot;~&quot;</td><td>&quot;AAPL&quot;</td><td>2025-03-14 20:05:00.025768363 UTC</td></tr><tr><td>2025-03-14 20:05:00.027373662 UTC</td><td>20</td><td>2</td><td>7152</td><td>165.49</td><td>0</td><td>0.0</td><td>0.0</td><td>0.0</td><td>0.0</td><td>0.0</td><td>0.0</td><td>0</td><td>0</td><td>0</td><td>0</td><td>&quot;A&quot;</td><td>&quot;N&quot;</td><td>0</td><td>0</td><td>0</td><td>&quot;N&quot;</td><td>&quot;~&quot;</td><td>&quot;GOOGL&quot;</td><td>2025-03-14 20:05:00.027539642 UTC</td></tr><tr><td>2025-03-14 20:05:00.027533116 UTC</td><td>20</td><td>2</td><td>10888</td><td>388.56</td><td>0</td><td>0.0</td><td>0.0</td><td>0.0</td><td>0.0</td><td>0.0</td><td>0.0</td><td>0</td><td>0</td><td>0</td><td>0</td><td>&quot;A&quot;</td><td>&quot;N&quot;</td><td>0</td><td>0</td><td>0</td><td>&quot;N&quot;</td><td>&quot;~&quot;</td><td>&quot;MSFT&quot;</td><td>2025-03-14 20:05:00.027698884 UTC</td></tr></tbody></table></div>"
      ],
      "text/plain": [
       "shape: (7_558_702, 25)\n",
       "┌────────────┬───────┬────────────┬────────────┬───┬────────────┬────────────┬────────┬────────────┐\n",
       "│ ts_event   ┆ rtype ┆ publisher_ ┆ instrument ┆ … ┆ unpaired_s ┆ significan ┆ symbol ┆ ts_recv    │\n",
       "│ ---        ┆ ---   ┆ id         ┆ _id        ┆   ┆ ide        ┆ t_imbalanc ┆ ---    ┆ ---        │\n",
       "│ datetime[n ┆ u8    ┆ ---        ┆ ---        ┆   ┆ ---        ┆ e          ┆ str    ┆ datetime[n │\n",
       "│ s, UTC]    ┆       ┆ u16        ┆ u32        ┆   ┆ str        ┆ ---        ┆        ┆ s, UTC]    │\n",
       "│            ┆       ┆            ┆            ┆   ┆            ┆ str        ┆        ┆            │\n",
       "╞════════════╪═══════╪════════════╪════════════╪═══╪════════════╪════════════╪════════╪════════════╡\n",
       "│ 2018-05-01 ┆ 20    ┆ 2          ┆ 89         ┆ … ┆ N          ┆ L          ┆ ADBE   ┆ 2018-05-01 │\n",
       "│ 13:28:00.0 ┆       ┆            ┆            ┆   ┆            ┆            ┆        ┆ 13:28:00.0 │\n",
       "│ 29946658 … ┆       ┆            ┆            ┆   ┆            ┆            ┆        ┆ 29957599 … │\n",
       "│ 2018-05-01 ┆ 20    ┆ 2          ┆ 5156       ┆ … ┆ N          ┆ L          ┆ MSFT   ┆ 2018-05-01 │\n",
       "│ 13:28:00.0 ┆       ┆            ┆            ┆   ┆            ┆            ┆        ┆ 13:28:00.0 │\n",
       "│ 68274053 … ┆       ┆            ┆            ┆   ┆            ┆            ┆        ┆ 68284668 … │\n",
       "│ 2018-05-01 ┆ 20    ┆ 2          ┆ 601        ┆ … ┆ N          ┆ L          ┆ AVGO   ┆ 2018-05-01 │\n",
       "│ 13:28:00.0 ┆       ┆            ┆            ┆   ┆            ┆            ┆        ┆ 13:28:00.0 │\n",
       "│ 73546234 … ┆       ┆            ┆            ┆   ┆            ┆            ┆        ┆ 73557361 … │\n",
       "│ 2018-05-01 ┆ 20    ┆ 2          ┆ 375        ┆ … ┆ N          ┆ L          ┆ AMZN   ┆ 2018-05-01 │\n",
       "│ 13:28:00.0 ┆       ┆            ┆            ┆   ┆            ┆            ┆        ┆ 13:28:00.0 │\n",
       "│ 87979785 … ┆       ┆            ┆            ┆   ┆            ┆            ┆        ┆ 87991394 … │\n",
       "│ 2018-05-01 ┆ 20    ┆ 2          ┆ 5367       ┆ … ┆ N          ┆ L          ┆ NFLX   ┆ 2018-05-01 │\n",
       "│ 13:28:00.0 ┆       ┆            ┆            ┆   ┆            ┆            ┆        ┆ 13:28:00.0 │\n",
       "│ 88650077 … ┆       ┆            ┆            ┆   ┆            ┆            ┆        ┆ 88660620 … │\n",
       "│ …          ┆ …     ┆ …          ┆ …          ┆ … ┆ …          ┆ …          ┆ …      ┆ …          │\n",
       "│ 2025-03-14 ┆ 20    ┆ 2          ┆ 11275      ┆ … ┆ N          ┆ ~          ┆ NFLX   ┆ 2025-03-14 │\n",
       "│ 20:05:00.0 ┆       ┆            ┆            ┆   ┆            ┆            ┆        ┆ 20:05:00.0 │\n",
       "│ 24225436 … ┆       ┆            ┆            ┆   ┆            ┆            ┆        ┆ 24391280 … │\n",
       "│ 2025-03-14 ┆ 20    ┆ 2          ┆ 16244      ┆ … ┆ N          ┆ ~          ┆ TSLA   ┆ 2025-03-14 │\n",
       "│ 20:05:00.0 ┆       ┆            ┆            ┆   ┆            ┆            ┆        ┆ 20:05:00.0 │\n",
       "│ 24315038 … ┆       ┆            ┆            ┆   ┆            ┆            ┆        ┆ 24480892 … │\n",
       "│ 2025-03-14 ┆ 20    ┆ 2          ┆ 38         ┆ … ┆ N          ┆ ~          ┆ AAPL   ┆ 2025-03-14 │\n",
       "│ 20:05:00.0 ┆       ┆            ┆            ┆   ┆            ┆            ┆        ┆ 20:05:00.0 │\n",
       "│ 25602266 … ┆       ┆            ┆            ┆   ┆            ┆            ┆        ┆ 25768363 … │\n",
       "│ 2025-03-14 ┆ 20    ┆ 2          ┆ 7152       ┆ … ┆ N          ┆ ~          ┆ GOOGL  ┆ 2025-03-14 │\n",
       "│ 20:05:00.0 ┆       ┆            ┆            ┆   ┆            ┆            ┆        ┆ 20:05:00.0 │\n",
       "│ 27373662 … ┆       ┆            ┆            ┆   ┆            ┆            ┆        ┆ 27539642 … │\n",
       "│ 2025-03-14 ┆ 20    ┆ 2          ┆ 10888      ┆ … ┆ N          ┆ ~          ┆ MSFT   ┆ 2025-03-14 │\n",
       "│ 20:05:00.0 ┆       ┆            ┆            ┆   ┆            ┆            ┆        ┆ 20:05:00.0 │\n",
       "│ 27533116 … ┆       ┆            ┆            ┆   ┆            ┆            ┆        ┆ 27698884 … │\n",
       "└────────────┴───────┴────────────┴────────────┴───┴────────────┴────────────┴────────┴────────────┘"
      ]
     },
     "execution_count": 7,
     "metadata": {},
     "output_type": "execute_result"
    }
   ],
   "source": [
    "imbalance_data"
   ]
  }
 ],
 "metadata": {
  "kernelspec": {
   "display_name": ".venv",
   "language": "python",
   "name": "python3"
  },
  "language_info": {
   "codemirror_mode": {
    "name": "ipython",
    "version": 3
   },
   "file_extension": ".py",
   "mimetype": "text/x-python",
   "name": "python",
   "nbconvert_exporter": "python",
   "pygments_lexer": "ipython3",
   "version": "3.11.8"
  }
 },
 "nbformat": 4,
 "nbformat_minor": 2
}
