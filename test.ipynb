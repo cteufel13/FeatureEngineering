{
 "cells": [
  {
   "cell_type": "code",
   "execution_count": 1,
   "metadata": {},
   "outputs": [],
   "source": [
    "from src.features.featurizer import Featurizer2\n",
    "import polars as pl"
   ]
  },
  {
   "cell_type": "code",
   "execution_count": 2,
   "metadata": {},
   "outputs": [],
   "source": [
    "featurizer = Featurizer2()\n"
   ]
  },
  {
   "cell_type": "code",
   "execution_count": 3,
   "metadata": {},
   "outputs": [
    {
     "name": "stdout",
     "output_type": "stream",
     "text": [
      "['xnas-itch-20180501-20250314.ohlcv-1m.parquet', 'xnas-itch-20180501-20250314.bbo-1m.parquet', 'xnas-itch-20180501-20250314.imbalance.parquet']\n",
      "['AAPL', 'AMZN', 'META', 'TSLA', 'NFLX', 'MSFT', 'AVGO', 'ADBE', 'IBM', 'GOOGL', 'NVDA', 'INTC', 'AMD']\n",
      "['ohlcv-1m', 'bbo-1m', 'imbalance']\n"
     ]
    }
   ],
   "source": [
    "print(featurizer.raw_data_paths)\n",
    "print(featurizer.symbols)\n",
    "print(featurizer.schemas)"
   ]
  },
  {
   "cell_type": "code",
   "execution_count": null,
   "metadata": {},
   "outputs": [],
   "source": []
  },
  {
   "cell_type": "code",
   "execution_count": null,
   "metadata": {},
   "outputs": [],
   "source": []
  },
  {
   "cell_type": "code",
   "execution_count": 4,
   "metadata": {},
   "outputs": [
    {
     "name": "stdout",
     "output_type": "stream",
     "text": [
      "time_index shape: (10_029_511, 5)\n",
      "┌─────────────────────────┬───────┬──────────────┬───────────────┬────────┐\n",
      "│ ts_event                ┆ rtype ┆ publisher_id ┆ instrument_id ┆ symbol │\n",
      "│ ---                     ┆ ---   ┆ ---          ┆ ---           ┆ ---    │\n",
      "│ datetime[ns, UTC]       ┆ u8    ┆ u16          ┆ u32           ┆ str    │\n",
      "╞═════════════════════════╪═══════╪══════════════╪═══════════════╪════════╡\n",
      "│ 2018-05-01 08:11:00 UTC ┆ 33    ┆ 2            ┆ 3363          ┆ GOOGL  │\n",
      "│ 2018-05-01 08:27:00 UTC ┆ 33    ┆ 2            ┆ 13            ┆ AAPL   │\n",
      "│ 2018-05-01 08:30:00 UTC ┆ 33    ┆ 2            ┆ 5156          ┆ MSFT   │\n",
      "│ 2018-05-01 08:35:00 UTC ┆ 33    ┆ 2            ┆ 13            ┆ AAPL   │\n",
      "│ 2018-05-01 08:38:00 UTC ┆ 33    ┆ 2            ┆ 13            ┆ AAPL   │\n",
      "│ …                       ┆ …     ┆ …            ┆ …             ┆ …      │\n",
      "│ 2025-03-14 23:59:00 UTC ┆ 33    ┆ 2            ┆ 1429          ┆ AVGO   │\n",
      "│ 2025-03-14 23:59:00 UTC ┆ 33    ┆ 2            ┆ 10888         ┆ MSFT   │\n",
      "│ 2025-03-14 23:59:00 UTC ┆ 33    ┆ 2            ┆ 16244         ┆ TSLA   │\n",
      "│ 2025-03-14 23:59:00 UTC ┆ 33    ┆ 2            ┆ 10451         ┆ META   │\n",
      "│ 2025-03-14 23:59:00 UTC ┆ 33    ┆ 2            ┆ 38            ┆ AAPL   │\n",
      "└─────────────────────────┴───────┴──────────────┴───────────────┴────────┘\n"
     ]
    }
   ],
   "source": [
    "ohlcv_data, bbo_data, imbalance_data = featurizer.process()"
   ]
  },
  {
   "cell_type": "code",
   "execution_count": 17,
   "metadata": {},
   "outputs": [
    {
     "data": {
      "text/html": [
       "<div><style>\n",
       ".dataframe > thead > tr,\n",
       ".dataframe > tbody > tr {\n",
       "  text-align: right;\n",
       "  white-space: pre-wrap;\n",
       "}\n",
       "</style>\n",
       "<small>shape: (0, 25)</small><table border=\"1\" class=\"dataframe\"><thead><tr><th>ts_event</th><th>rtype</th><th>publisher_id</th><th>instrument_id</th><th>ref_price</th><th>auction_time</th><th>cont_book_clr_price</th><th>auct_interest_clr_price</th><th>ssr_filling_price</th><th>ind_match_price</th><th>upper_collar</th><th>lower_collar</th><th>paired_qty</th><th>total_imbalance_qty</th><th>market_imbalance_qty</th><th>unpaired_qty</th><th>auction_type</th><th>side</th><th>auction_status</th><th>freeze_status</th><th>num_extensions</th><th>unpaired_side</th><th>significant_imbalance</th><th>symbol</th><th>ts_recv</th></tr><tr><td>datetime[ns, UTC]</td><td>u8</td><td>u16</td><td>u32</td><td>f64</td><td>u64</td><td>f64</td><td>f64</td><td>f64</td><td>f64</td><td>f64</td><td>f64</td><td>u32</td><td>u32</td><td>u32</td><td>u32</td><td>str</td><td>str</td><td>u8</td><td>u8</td><td>u8</td><td>str</td><td>str</td><td>str</td><td>datetime[ns, UTC]</td></tr></thead><tbody></tbody></table></div>"
      ],
      "text/plain": [
       "shape: (0, 25)\n",
       "┌────────────┬───────┬────────────┬────────────┬───┬────────────┬────────────┬────────┬────────────┐\n",
       "│ ts_event   ┆ rtype ┆ publisher_ ┆ instrument ┆ … ┆ unpaired_s ┆ significan ┆ symbol ┆ ts_recv    │\n",
       "│ ---        ┆ ---   ┆ id         ┆ _id        ┆   ┆ ide        ┆ t_imbalanc ┆ ---    ┆ ---        │\n",
       "│ datetime[n ┆ u8    ┆ ---        ┆ ---        ┆   ┆ ---        ┆ e          ┆ str    ┆ datetime[n │\n",
       "│ s, UTC]    ┆       ┆ u16        ┆ u32        ┆   ┆ str        ┆ ---        ┆        ┆ s, UTC]    │\n",
       "│            ┆       ┆            ┆            ┆   ┆            ┆ str        ┆        ┆            │\n",
       "╞════════════╪═══════╪════════════╪════════════╪═══╪════════════╪════════════╪════════╪════════════╡\n",
       "└────────────┴───────┴────────────┴────────────┴───┴────────────┴────────────┴────────┴────────────┘"
      ]
     },
     "execution_count": 17,
     "metadata": {},
     "output_type": "execute_result"
    }
   ],
   "source": [
    "imbalance_data.filter(pl.col(\"symbol\") == \"AMD\")"
   ]
  },
  {
   "cell_type": "code",
   "execution_count": 56,
   "metadata": {},
   "outputs": [],
   "source": [
    "path1 = \"data/raw/xnas-itch-20180501-20250314.imbalance.parquet\"\n",
    "\n",
    "imbalance_data_1 = pl.read_parquet(path1)"
   ]
  },
  {
   "cell_type": "code",
   "execution_count": 57,
   "metadata": {},
   "outputs": [],
   "source": [
    "import os \n",
    "\n",
    "directory = \"data/cache\"\n",
    "keyword = \"imbalance\"\n",
    "\n",
    "matching_files = [\n",
    "        f for f in os.listdir(directory)\n",
    "        if os.path.isfile(os.path.join(directory, f)) and keyword in f\n",
    "    ]\n",
    "    \n"
   ]
  },
  {
   "cell_type": "code",
   "execution_count": null,
   "metadata": {},
   "outputs": [
    {
     "name": "stdout",
     "output_type": "stream",
     "text": [
      "MSFT_imbalance.parquet\n",
      "['ts_event', 'rtype', 'publisher_id', 'instrument_id', 'ref_price', 'auction_time', 'cont_book_clr_price', 'auct_interest_clr_price', 'ssr_filling_price', 'ind_match_price', 'upper_collar', 'lower_collar', 'paired_qty', 'total_imbalance_qty', 'market_imbalance_qty', 'unpaired_qty', 'auction_type', 'side', 'auction_status', 'freeze_status', 'num_extensions', 'unpaired_side', 'significant_imbalance', 'symbol', 'ts_recv']\n",
      "['ts_event', 'rtype', 'publisher_id', 'instrument_id', 'ref_price', 'auction_time', 'cont_book_clr_price', 'auct_interest_clr_price', 'ssr_filling_price', 'ind_match_price', 'upper_collar', 'lower_collar', 'paired_qty', 'total_imbalance_qty', 'market_imbalance_qty', 'unpaired_qty', 'auction_type', 'side', 'auction_status', 'freeze_status', 'num_extensions', 'unpaired_side', 'significant_imbalance', 'symbol']\n"
     ]
    },
    {
     "ename": "ShapeError",
     "evalue": "unable to append to a DataFrame of width 25 with a DataFrame of width 24",
     "output_type": "error",
     "traceback": [
      "\u001b[0;31m---------------------------------------------------------------------------\u001b[0m",
      "\u001b[0;31mShapeError\u001b[0m                                Traceback (most recent call last)",
      "Cell \u001b[0;32mIn[60], line 9\u001b[0m\n\u001b[1;32m      7\u001b[0m data \u001b[38;5;241m=\u001b[39m data\u001b[38;5;241m.\u001b[39mselect([ \u001b[38;5;124m\"\u001b[39m\u001b[38;5;124mts_event\u001b[39m\u001b[38;5;124m\"\u001b[39m ]\u001b[38;5;241m+\u001b[39m [col \u001b[38;5;28;01mfor\u001b[39;00m col \u001b[38;5;129;01min\u001b[39;00m data\u001b[38;5;241m.\u001b[39mcolumns \u001b[38;5;28;01mif\u001b[39;00m col \u001b[38;5;241m!=\u001b[39m \u001b[38;5;124m\"\u001b[39m\u001b[38;5;124mts_event\u001b[39m\u001b[38;5;124m\"\u001b[39m])\n\u001b[1;32m      8\u001b[0m imbalance_data_1 \u001b[38;5;241m=\u001b[39m imbalance_data_1\u001b[38;5;241m.\u001b[39mselect([ \u001b[38;5;124m\"\u001b[39m\u001b[38;5;124mts_event\u001b[39m\u001b[38;5;124m\"\u001b[39m ]\u001b[38;5;241m+\u001b[39m [col \u001b[38;5;28;01mfor\u001b[39;00m col \u001b[38;5;129;01min\u001b[39;00m bbo_data_1\u001b[38;5;241m.\u001b[39mcolumns \u001b[38;5;28;01mif\u001b[39;00m col \u001b[38;5;241m!=\u001b[39m \u001b[38;5;124m\"\u001b[39m\u001b[38;5;124mts_event\u001b[39m\u001b[38;5;124m\"\u001b[39m])\n\u001b[0;32m----> 9\u001b[0m imbalance_data_1 \u001b[38;5;241m=\u001b[39m \u001b[43mpl\u001b[49m\u001b[38;5;241;43m.\u001b[39;49m\u001b[43mconcat\u001b[49m\u001b[43m(\u001b[49m\u001b[43m[\u001b[49m\u001b[43mimbalance_data_1\u001b[49m\u001b[43m \u001b[49m\u001b[43m,\u001b[49m\u001b[43mdata\u001b[49m\u001b[43m]\u001b[49m\u001b[43m)\u001b[49m\n",
      "File \u001b[0;32m~/Documents/Projects/FeatureEngineering/.venv/lib/python3.11/site-packages/polars/functions/eager.py:229\u001b[0m, in \u001b[0;36mconcat\u001b[0;34m(items, how, rechunk, parallel)\u001b[0m\n\u001b[1;32m    227\u001b[0m \u001b[38;5;28;01mif\u001b[39;00m \u001b[38;5;28misinstance\u001b[39m(first, pl\u001b[38;5;241m.\u001b[39mDataFrame):\n\u001b[1;32m    228\u001b[0m     \u001b[38;5;28;01mif\u001b[39;00m how \u001b[38;5;241m==\u001b[39m \u001b[38;5;124m\"\u001b[39m\u001b[38;5;124mvertical\u001b[39m\u001b[38;5;124m\"\u001b[39m:\n\u001b[0;32m--> 229\u001b[0m         out \u001b[38;5;241m=\u001b[39m wrap_df(\u001b[43mplr\u001b[49m\u001b[38;5;241;43m.\u001b[39;49m\u001b[43mconcat_df\u001b[49m\u001b[43m(\u001b[49m\u001b[43melems\u001b[49m\u001b[43m)\u001b[49m)\n\u001b[1;32m    230\u001b[0m     \u001b[38;5;28;01melif\u001b[39;00m how \u001b[38;5;241m==\u001b[39m \u001b[38;5;124m\"\u001b[39m\u001b[38;5;124mvertical_relaxed\u001b[39m\u001b[38;5;124m\"\u001b[39m:\n\u001b[1;32m    231\u001b[0m         out \u001b[38;5;241m=\u001b[39m wrap_ldf(\n\u001b[1;32m    232\u001b[0m             plr\u001b[38;5;241m.\u001b[39mconcat_lf(\n\u001b[1;32m    233\u001b[0m                 [df\u001b[38;5;241m.\u001b[39mlazy() \u001b[38;5;28;01mfor\u001b[39;00m df \u001b[38;5;129;01min\u001b[39;00m elems],\n\u001b[0;32m   (...)\u001b[0m\n\u001b[1;32m    237\u001b[0m             )\n\u001b[1;32m    238\u001b[0m         )\u001b[38;5;241m.\u001b[39mcollect(no_optimization\u001b[38;5;241m=\u001b[39m\u001b[38;5;28;01mTrue\u001b[39;00m)\n",
      "\u001b[0;31mShapeError\u001b[0m: unable to append to a DataFrame of width 25 with a DataFrame of width 24"
     ]
    }
   ],
   "source": [
    "for matching_file in matching_files:\n",
    "    print(matching_file)\n",
    "    data = pl.read_parquet(os.path.join(directory, matching_file))\n",
    "    data.drop_in_place(\"ts_recv\")\n",
    "    print(imbalance_data_1.columns)\n",
    "    print(data.columns)\n",
    "    imbalance_data_1.drop_in_place(\"ts_recv\")\n",
    "    data = data.select([ \"ts_event\" ]+ [col for col in data.columns if col != \"ts_event\"])\n",
    "    imbalance_data_1 = imbalance_data_1.select([ \"ts_event\" ]+ [col for col in bbo_data_1.columns if col != \"ts_event\"])\n",
    "    imbalance_data_1 = pl.concat([imbalance_data_1 ,data])\n"
   ]
  },
  {
   "cell_type": "code",
   "execution_count": 59,
   "metadata": {},
   "outputs": [
    {
     "data": {
      "text/html": [
       "<div><style>\n",
       ".dataframe > thead > tr,\n",
       ".dataframe > tbody > tr {\n",
       "  text-align: right;\n",
       "  white-space: pre-wrap;\n",
       "}\n",
       "</style>\n",
       "<small>shape: (7_558_702, 25)</small><table border=\"1\" class=\"dataframe\"><thead><tr><th>ts_event</th><th>rtype</th><th>publisher_id</th><th>instrument_id</th><th>ref_price</th><th>auction_time</th><th>cont_book_clr_price</th><th>auct_interest_clr_price</th><th>ssr_filling_price</th><th>ind_match_price</th><th>upper_collar</th><th>lower_collar</th><th>paired_qty</th><th>total_imbalance_qty</th><th>market_imbalance_qty</th><th>unpaired_qty</th><th>auction_type</th><th>side</th><th>auction_status</th><th>freeze_status</th><th>num_extensions</th><th>unpaired_side</th><th>significant_imbalance</th><th>symbol</th><th>ts_recv</th></tr><tr><td>datetime[ns, UTC]</td><td>u8</td><td>u16</td><td>u32</td><td>f64</td><td>u64</td><td>f64</td><td>f64</td><td>f64</td><td>f64</td><td>f64</td><td>f64</td><td>u32</td><td>u32</td><td>u32</td><td>u32</td><td>str</td><td>str</td><td>u8</td><td>u8</td><td>u8</td><td>str</td><td>str</td><td>str</td><td>datetime[ns, UTC]</td></tr></thead><tbody><tr><td>2018-05-01 13:28:00.029946658 UTC</td><td>20</td><td>2</td><td>89</td><td>220.68</td><td>0</td><td>220.68</td><td>220.68</td><td>0.0</td><td>0.0</td><td>0.0</td><td>0.0</td><td>26422</td><td>0</td><td>0</td><td>0</td><td>&quot;O&quot;</td><td>&quot;N&quot;</td><td>0</td><td>0</td><td>0</td><td>&quot;N&quot;</td><td>&quot;L&quot;</td><td>&quot;ADBE&quot;</td><td>2018-05-01 13:28:00.029957599 UTC</td></tr><tr><td>2018-05-01 13:28:00.068274053 UTC</td><td>20</td><td>2</td><td>5156</td><td>93.23</td><td>0</td><td>93.16</td><td>93.16</td><td>0.0</td><td>0.0</td><td>0.0</td><td>0.0</td><td>227040</td><td>10480</td><td>0</td><td>0</td><td>&quot;O&quot;</td><td>&quot;A&quot;</td><td>0</td><td>0</td><td>0</td><td>&quot;N&quot;</td><td>&quot;L&quot;</td><td>&quot;MSFT&quot;</td><td>2018-05-01 13:28:00.068284668 UTC</td></tr><tr><td>2018-05-01 13:28:00.073546234 UTC</td><td>20</td><td>2</td><td>601</td><td>229.92</td><td>0</td><td>229.92</td><td>229.92</td><td>0.0</td><td>0.0</td><td>0.0</td><td>0.0</td><td>28989</td><td>0</td><td>0</td><td>0</td><td>&quot;O&quot;</td><td>&quot;N&quot;</td><td>0</td><td>0</td><td>0</td><td>&quot;N&quot;</td><td>&quot;L&quot;</td><td>&quot;AVGO&quot;</td><td>2018-05-01 13:28:00.073557361 UTC</td></tr><tr><td>2018-05-01 13:28:00.087979785 UTC</td><td>20</td><td>2</td><td>375</td><td>1566.26</td><td>0</td><td>1562.73</td><td>1562.33</td><td>0.0</td><td>0.0</td><td>0.0</td><td>0.0</td><td>31124</td><td>15413</td><td>0</td><td>0</td><td>&quot;O&quot;</td><td>&quot;A&quot;</td><td>0</td><td>0</td><td>0</td><td>&quot;N&quot;</td><td>&quot;L&quot;</td><td>&quot;AMZN&quot;</td><td>2018-05-01 13:28:00.087991394 UTC</td></tr><tr><td>2018-05-01 13:28:00.088650077 UTC</td><td>20</td><td>2</td><td>5367</td><td>310.99</td><td>0</td><td>310.57</td><td>310.57</td><td>0.0</td><td>0.0</td><td>0.0</td><td>0.0</td><td>41760</td><td>9772</td><td>0</td><td>0</td><td>&quot;O&quot;</td><td>&quot;A&quot;</td><td>0</td><td>0</td><td>0</td><td>&quot;N&quot;</td><td>&quot;L&quot;</td><td>&quot;NFLX&quot;</td><td>2018-05-01 13:28:00.088660620 UTC</td></tr><tr><td>&hellip;</td><td>&hellip;</td><td>&hellip;</td><td>&hellip;</td><td>&hellip;</td><td>&hellip;</td><td>&hellip;</td><td>&hellip;</td><td>&hellip;</td><td>&hellip;</td><td>&hellip;</td><td>&hellip;</td><td>&hellip;</td><td>&hellip;</td><td>&hellip;</td><td>&hellip;</td><td>&hellip;</td><td>&hellip;</td><td>&hellip;</td><td>&hellip;</td><td>&hellip;</td><td>&hellip;</td><td>&hellip;</td><td>&hellip;</td><td>&hellip;</td></tr><tr><td>2025-03-14 20:05:00.024225436 UTC</td><td>20</td><td>2</td><td>11275</td><td>918.0</td><td>0</td><td>0.0</td><td>0.0</td><td>0.0</td><td>0.0</td><td>0.0</td><td>0.0</td><td>0</td><td>0</td><td>0</td><td>0</td><td>&quot;A&quot;</td><td>&quot;N&quot;</td><td>0</td><td>0</td><td>0</td><td>&quot;N&quot;</td><td>&quot;~&quot;</td><td>&quot;NFLX&quot;</td><td>2025-03-14 20:05:00.024391280 UTC</td></tr><tr><td>2025-03-14 20:05:00.024315038 UTC</td><td>20</td><td>2</td><td>16244</td><td>249.98</td><td>0</td><td>0.0</td><td>0.0</td><td>0.0</td><td>0.0</td><td>0.0</td><td>0.0</td><td>0</td><td>0</td><td>0</td><td>0</td><td>&quot;A&quot;</td><td>&quot;N&quot;</td><td>0</td><td>0</td><td>0</td><td>&quot;N&quot;</td><td>&quot;~&quot;</td><td>&quot;TSLA&quot;</td><td>2025-03-14 20:05:00.024480892 UTC</td></tr><tr><td>2025-03-14 20:05:00.025602266 UTC</td><td>20</td><td>2</td><td>38</td><td>213.49</td><td>0</td><td>0.0</td><td>0.0</td><td>0.0</td><td>0.0</td><td>0.0</td><td>0.0</td><td>0</td><td>0</td><td>0</td><td>0</td><td>&quot;A&quot;</td><td>&quot;N&quot;</td><td>0</td><td>0</td><td>0</td><td>&quot;N&quot;</td><td>&quot;~&quot;</td><td>&quot;AAPL&quot;</td><td>2025-03-14 20:05:00.025768363 UTC</td></tr><tr><td>2025-03-14 20:05:00.027373662 UTC</td><td>20</td><td>2</td><td>7152</td><td>165.49</td><td>0</td><td>0.0</td><td>0.0</td><td>0.0</td><td>0.0</td><td>0.0</td><td>0.0</td><td>0</td><td>0</td><td>0</td><td>0</td><td>&quot;A&quot;</td><td>&quot;N&quot;</td><td>0</td><td>0</td><td>0</td><td>&quot;N&quot;</td><td>&quot;~&quot;</td><td>&quot;GOOGL&quot;</td><td>2025-03-14 20:05:00.027539642 UTC</td></tr><tr><td>2025-03-14 20:05:00.027533116 UTC</td><td>20</td><td>2</td><td>10888</td><td>388.56</td><td>0</td><td>0.0</td><td>0.0</td><td>0.0</td><td>0.0</td><td>0.0</td><td>0.0</td><td>0</td><td>0</td><td>0</td><td>0</td><td>&quot;A&quot;</td><td>&quot;N&quot;</td><td>0</td><td>0</td><td>0</td><td>&quot;N&quot;</td><td>&quot;~&quot;</td><td>&quot;MSFT&quot;</td><td>2025-03-14 20:05:00.027698884 UTC</td></tr></tbody></table></div>"
      ],
      "text/plain": [
       "shape: (7_558_702, 25)\n",
       "┌────────────┬───────┬────────────┬────────────┬───┬────────────┬────────────┬────────┬────────────┐\n",
       "│ ts_event   ┆ rtype ┆ publisher_ ┆ instrument ┆ … ┆ unpaired_s ┆ significan ┆ symbol ┆ ts_recv    │\n",
       "│ ---        ┆ ---   ┆ id         ┆ _id        ┆   ┆ ide        ┆ t_imbalanc ┆ ---    ┆ ---        │\n",
       "│ datetime[n ┆ u8    ┆ ---        ┆ ---        ┆   ┆ ---        ┆ e          ┆ str    ┆ datetime[n │\n",
       "│ s, UTC]    ┆       ┆ u16        ┆ u32        ┆   ┆ str        ┆ ---        ┆        ┆ s, UTC]    │\n",
       "│            ┆       ┆            ┆            ┆   ┆            ┆ str        ┆        ┆            │\n",
       "╞════════════╪═══════╪════════════╪════════════╪═══╪════════════╪════════════╪════════╪════════════╡\n",
       "│ 2018-05-01 ┆ 20    ┆ 2          ┆ 89         ┆ … ┆ N          ┆ L          ┆ ADBE   ┆ 2018-05-01 │\n",
       "│ 13:28:00.0 ┆       ┆            ┆            ┆   ┆            ┆            ┆        ┆ 13:28:00.0 │\n",
       "│ 29946658 … ┆       ┆            ┆            ┆   ┆            ┆            ┆        ┆ 29957599 … │\n",
       "│ 2018-05-01 ┆ 20    ┆ 2          ┆ 5156       ┆ … ┆ N          ┆ L          ┆ MSFT   ┆ 2018-05-01 │\n",
       "│ 13:28:00.0 ┆       ┆            ┆            ┆   ┆            ┆            ┆        ┆ 13:28:00.0 │\n",
       "│ 68274053 … ┆       ┆            ┆            ┆   ┆            ┆            ┆        ┆ 68284668 … │\n",
       "│ 2018-05-01 ┆ 20    ┆ 2          ┆ 601        ┆ … ┆ N          ┆ L          ┆ AVGO   ┆ 2018-05-01 │\n",
       "│ 13:28:00.0 ┆       ┆            ┆            ┆   ┆            ┆            ┆        ┆ 13:28:00.0 │\n",
       "│ 73546234 … ┆       ┆            ┆            ┆   ┆            ┆            ┆        ┆ 73557361 … │\n",
       "│ 2018-05-01 ┆ 20    ┆ 2          ┆ 375        ┆ … ┆ N          ┆ L          ┆ AMZN   ┆ 2018-05-01 │\n",
       "│ 13:28:00.0 ┆       ┆            ┆            ┆   ┆            ┆            ┆        ┆ 13:28:00.0 │\n",
       "│ 87979785 … ┆       ┆            ┆            ┆   ┆            ┆            ┆        ┆ 87991394 … │\n",
       "│ 2018-05-01 ┆ 20    ┆ 2          ┆ 5367       ┆ … ┆ N          ┆ L          ┆ NFLX   ┆ 2018-05-01 │\n",
       "│ 13:28:00.0 ┆       ┆            ┆            ┆   ┆            ┆            ┆        ┆ 13:28:00.0 │\n",
       "│ 88650077 … ┆       ┆            ┆            ┆   ┆            ┆            ┆        ┆ 88660620 … │\n",
       "│ …          ┆ …     ┆ …          ┆ …          ┆ … ┆ …          ┆ …          ┆ …      ┆ …          │\n",
       "│ 2025-03-14 ┆ 20    ┆ 2          ┆ 11275      ┆ … ┆ N          ┆ ~          ┆ NFLX   ┆ 2025-03-14 │\n",
       "│ 20:05:00.0 ┆       ┆            ┆            ┆   ┆            ┆            ┆        ┆ 20:05:00.0 │\n",
       "│ 24225436 … ┆       ┆            ┆            ┆   ┆            ┆            ┆        ┆ 24391280 … │\n",
       "│ 2025-03-14 ┆ 20    ┆ 2          ┆ 16244      ┆ … ┆ N          ┆ ~          ┆ TSLA   ┆ 2025-03-14 │\n",
       "│ 20:05:00.0 ┆       ┆            ┆            ┆   ┆            ┆            ┆        ┆ 20:05:00.0 │\n",
       "│ 24315038 … ┆       ┆            ┆            ┆   ┆            ┆            ┆        ┆ 24480892 … │\n",
       "│ 2025-03-14 ┆ 20    ┆ 2          ┆ 38         ┆ … ┆ N          ┆ ~          ┆ AAPL   ┆ 2025-03-14 │\n",
       "│ 20:05:00.0 ┆       ┆            ┆            ┆   ┆            ┆            ┆        ┆ 20:05:00.0 │\n",
       "│ 25602266 … ┆       ┆            ┆            ┆   ┆            ┆            ┆        ┆ 25768363 … │\n",
       "│ 2025-03-14 ┆ 20    ┆ 2          ┆ 7152       ┆ … ┆ N          ┆ ~          ┆ GOOGL  ┆ 2025-03-14 │\n",
       "│ 20:05:00.0 ┆       ┆            ┆            ┆   ┆            ┆            ┆        ┆ 20:05:00.0 │\n",
       "│ 27373662 … ┆       ┆            ┆            ┆   ┆            ┆            ┆        ┆ 27539642 … │\n",
       "│ 2025-03-14 ┆ 20    ┆ 2          ┆ 10888      ┆ … ┆ N          ┆ ~          ┆ MSFT   ┆ 2025-03-14 │\n",
       "│ 20:05:00.0 ┆       ┆            ┆            ┆   ┆            ┆            ┆        ┆ 20:05:00.0 │\n",
       "│ 27533116 … ┆       ┆            ┆            ┆   ┆            ┆            ┆        ┆ 27698884 … │\n",
       "└────────────┴───────┴────────────┴────────────┴───┴────────────┴────────────┴────────┴────────────┘"
      ]
     },
     "execution_count": 59,
     "metadata": {},
     "output_type": "execute_result"
    }
   ],
   "source": [
    "imbalance_data_1.sort(\"ts_event\")"
   ]
  },
  {
   "cell_type": "code",
   "execution_count": null,
   "metadata": {},
   "outputs": [
    {
     "data": {
      "text/html": [
       "<div><style>\n",
       ".dataframe > thead > tr,\n",
       ".dataframe > tbody > tr {\n",
       "  text-align: right;\n",
       "  white-space: pre-wrap;\n",
       "}\n",
       "</style>\n",
       "<small>shape: (1_410_326, 16)</small><table border=\"1\" class=\"dataframe\"><thead><tr><th>ts_event</th><th>rtype</th><th>publisher_id</th><th>instrument_id</th><th>side</th><th>price</th><th>size</th><th>flags</th><th>sequence</th><th>bid_px_00</th><th>ask_px_00</th><th>bid_sz_00</th><th>ask_sz_00</th><th>bid_ct_00</th><th>ask_ct_00</th><th>symbol</th></tr><tr><td>datetime[ns, UTC]</td><td>u8</td><td>u16</td><td>u32</td><td>str</td><td>f64</td><td>u32</td><td>u8</td><td>u32</td><td>f64</td><td>f64</td><td>u32</td><td>u32</td><td>u32</td><td>u32</td><td>str</td></tr></thead><tbody><tr><td>null</td><td>196</td><td>2</td><td>328</td><td>&quot;N&quot;</td><td>null</td><td>0</td><td>130</td><td>1969559</td><td>10.71</td><td>null</td><td>300</td><td>0</td><td>1</td><td>0</td><td>&quot;AMD&quot;</td></tr><tr><td>null</td><td>196</td><td>2</td><td>328</td><td>&quot;N&quot;</td><td>null</td><td>0</td><td>130</td><td>1994591</td><td>10.71</td><td>10.87</td><td>300</td><td>21</td><td>1</td><td>1</td><td>&quot;AMD&quot;</td></tr><tr><td>null</td><td>196</td><td>2</td><td>328</td><td>&quot;N&quot;</td><td>null</td><td>0</td><td>130</td><td>2021701</td><td>0.01</td><td>199999.99</td><td>100</td><td>100</td><td>1</td><td>1</td><td>&quot;AMD&quot;</td></tr><tr><td>null</td><td>196</td><td>2</td><td>328</td><td>&quot;N&quot;</td><td>null</td><td>0</td><td>130</td><td>2024655</td><td>10.85</td><td>13.7</td><td>300</td><td>9600</td><td>1</td><td>1</td><td>&quot;AMD&quot;</td></tr><tr><td>null</td><td>196</td><td>2</td><td>328</td><td>&quot;N&quot;</td><td>null</td><td>0</td><td>130</td><td>2172755</td><td>0.01</td><td>13.7</td><td>100</td><td>9600</td><td>1</td><td>1</td><td>&quot;AMD&quot;</td></tr><tr><td>&hellip;</td><td>&hellip;</td><td>&hellip;</td><td>&hellip;</td><td>&hellip;</td><td>&hellip;</td><td>&hellip;</td><td>&hellip;</td><td>&hellip;</td><td>&hellip;</td><td>&hellip;</td><td>&hellip;</td><td>&hellip;</td><td>&hellip;</td><td>&hellip;</td><td>&hellip;</td></tr><tr><td>2025-03-14 23:51:21.743318674 UTC</td><td>196</td><td>2</td><td>773</td><td>&quot;N&quot;</td><td>100.93</td><td>5</td><td>130</td><td>707745162</td><td>100.84</td><td>100.98</td><td>9</td><td>1</td><td>2</td><td>1</td><td>&quot;AMD&quot;</td></tr><tr><td>2025-03-14 23:51:21.743318674 UTC</td><td>196</td><td>2</td><td>773</td><td>&quot;N&quot;</td><td>100.93</td><td>5</td><td>130</td><td>707764088</td><td>100.84</td><td>101.0</td><td>9</td><td>100</td><td>2</td><td>1</td><td>&quot;AMD&quot;</td></tr><tr><td>2025-03-14 23:51:21.743318674 UTC</td><td>196</td><td>2</td><td>773</td><td>&quot;N&quot;</td><td>100.93</td><td>5</td><td>130</td><td>707766338</td><td>100.84</td><td>101.0</td><td>8</td><td>100</td><td>1</td><td>1</td><td>&quot;AMD&quot;</td></tr><tr><td>2025-03-14 23:51:21.743318674 UTC</td><td>196</td><td>2</td><td>773</td><td>&quot;N&quot;</td><td>100.93</td><td>5</td><td>130</td><td>707774572</td><td>100.84</td><td>100.96</td><td>8</td><td>20</td><td>1</td><td>1</td><td>&quot;AMD&quot;</td></tr><tr><td>2025-03-14 23:58:47.408851223 UTC</td><td>196</td><td>2</td><td>773</td><td>&quot;A&quot;</td><td>100.78</td><td>374</td><td>130</td><td>707778299</td><td>100.78</td><td>100.96</td><td>3626</td><td>20</td><td>1</td><td>1</td><td>&quot;AMD&quot;</td></tr></tbody></table></div>"
      ],
      "text/plain": [
       "shape: (1_410_326, 16)\n",
       "┌─────────────┬───────┬─────────────┬─────────────┬───┬───────────┬───────────┬───────────┬────────┐\n",
       "│ ts_event    ┆ rtype ┆ publisher_i ┆ instrument_ ┆ … ┆ ask_sz_00 ┆ bid_ct_00 ┆ ask_ct_00 ┆ symbol │\n",
       "│ ---         ┆ ---   ┆ d           ┆ id          ┆   ┆ ---       ┆ ---       ┆ ---       ┆ ---    │\n",
       "│ datetime[ns ┆ u8    ┆ ---         ┆ ---         ┆   ┆ u32       ┆ u32       ┆ u32       ┆ str    │\n",
       "│ , UTC]      ┆       ┆ u16         ┆ u32         ┆   ┆           ┆           ┆           ┆        │\n",
       "╞═════════════╪═══════╪═════════════╪═════════════╪═══╪═══════════╪═══════════╪═══════════╪════════╡\n",
       "│ null        ┆ 196   ┆ 2           ┆ 328         ┆ … ┆ 0         ┆ 1         ┆ 0         ┆ AMD    │\n",
       "│ null        ┆ 196   ┆ 2           ┆ 328         ┆ … ┆ 21        ┆ 1         ┆ 1         ┆ AMD    │\n",
       "│ null        ┆ 196   ┆ 2           ┆ 328         ┆ … ┆ 100       ┆ 1         ┆ 1         ┆ AMD    │\n",
       "│ null        ┆ 196   ┆ 2           ┆ 328         ┆ … ┆ 9600      ┆ 1         ┆ 1         ┆ AMD    │\n",
       "│ null        ┆ 196   ┆ 2           ┆ 328         ┆ … ┆ 9600      ┆ 1         ┆ 1         ┆ AMD    │\n",
       "│ …           ┆ …     ┆ …           ┆ …           ┆ … ┆ …         ┆ …         ┆ …         ┆ …      │\n",
       "│ 2025-03-14  ┆ 196   ┆ 2           ┆ 773         ┆ … ┆ 1         ┆ 2         ┆ 1         ┆ AMD    │\n",
       "│ 23:51:21.74 ┆       ┆             ┆             ┆   ┆           ┆           ┆           ┆        │\n",
       "│ 3318674 …   ┆       ┆             ┆             ┆   ┆           ┆           ┆           ┆        │\n",
       "│ 2025-03-14  ┆ 196   ┆ 2           ┆ 773         ┆ … ┆ 100       ┆ 2         ┆ 1         ┆ AMD    │\n",
       "│ 23:51:21.74 ┆       ┆             ┆             ┆   ┆           ┆           ┆           ┆        │\n",
       "│ 3318674 …   ┆       ┆             ┆             ┆   ┆           ┆           ┆           ┆        │\n",
       "│ 2025-03-14  ┆ 196   ┆ 2           ┆ 773         ┆ … ┆ 100       ┆ 1         ┆ 1         ┆ AMD    │\n",
       "│ 23:51:21.74 ┆       ┆             ┆             ┆   ┆           ┆           ┆           ┆        │\n",
       "│ 3318674 …   ┆       ┆             ┆             ┆   ┆           ┆           ┆           ┆        │\n",
       "│ 2025-03-14  ┆ 196   ┆ 2           ┆ 773         ┆ … ┆ 20        ┆ 1         ┆ 1         ┆ AMD    │\n",
       "│ 23:51:21.74 ┆       ┆             ┆             ┆   ┆           ┆           ┆           ┆        │\n",
       "│ 3318674 …   ┆       ┆             ┆             ┆   ┆           ┆           ┆           ┆        │\n",
       "│ 2025-03-14  ┆ 196   ┆ 2           ┆ 773         ┆ … ┆ 20        ┆ 1         ┆ 1         ┆ AMD    │\n",
       "│ 23:58:47.40 ┆       ┆             ┆             ┆   ┆           ┆           ┆           ┆        │\n",
       "│ 8851223 …   ┆       ┆             ┆             ┆   ┆           ┆           ┆           ┆        │\n",
       "└─────────────┴───────┴─────────────┴─────────────┴───┴───────────┴───────────┴───────────┴────────┘"
      ]
     },
     "execution_count": 51,
     "metadata": {},
     "output_type": "execute_result"
    }
   ],
   "source": [
    "imbalance_data_1.filter(pl.col(\"symbol\") == \"AMD\")"
   ]
  },
  {
   "cell_type": "code",
   "execution_count": 52,
   "metadata": {},
   "outputs": [],
   "source": [
    "bbo_data_1.write_parquet(path1)"
   ]
  },
  {
   "cell_type": "code",
   "execution_count": null,
   "metadata": {},
   "outputs": [],
   "source": []
  }
 ],
 "metadata": {
  "kernelspec": {
   "display_name": ".venv",
   "language": "python",
   "name": "python3"
  },
  "language_info": {
   "codemirror_mode": {
    "name": "ipython",
    "version": 3
   },
   "file_extension": ".py",
   "mimetype": "text/x-python",
   "name": "python",
   "nbconvert_exporter": "python",
   "pygments_lexer": "ipython3",
   "version": "3.11.8"
  }
 },
 "nbformat": 4,
 "nbformat_minor": 2
}
